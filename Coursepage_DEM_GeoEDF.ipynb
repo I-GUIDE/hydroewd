{
 "cells": [
  {
   "cell_type": "markdown",
   "id": "6cea8b31-ee96-43e6-8406-48991c0cae92",
   "metadata": {},
   "source": [
    "## <span style=\"color:green\"><h1><center>HPC TOOL: DEM Accessing & Processing</center></h1></span>\n",
    "<center>Prepared by <br>\n",
    "    <b>Noah Oller Smith, Rajesh Kalyanam, Jibin Joseph and Venkatesh Merwade</b><br> \n",
    "Lyles School of Civil Engineering, Purdue University<br>\n",
    "vmerwade@purdue.edu<br>\n",
    "<b><br>\n",
    "    FAIR Science in Water Resources</b><br></center>\n"
   ]
  },
  {
   "cell_type": "markdown",
   "id": "1e3690f5-d06d-4ac1-b765-7b1900d3e927",
   "metadata": {},
   "source": [
    "## <span style=\"color:green\">Objective</span>\n",
    "<p style='text-align: justify;'> The objective of this tutorial is to peform the accessing and processing of DEM data for larger watershed and/or with resolution. We will input the site ID, resolution and this tutorial will give you back clipped raster for any regions across CONUS.</p> "
   ]
  },
  {
   "cell_type": "code",
   "execution_count": null,
   "id": "2f3b5d82-6710-48aa-85e9-08f35278bdff",
   "metadata": {
    "tags": []
   },
   "outputs": [],
   "source": [
    "## Let's try higher resolution of 1/3 arc-second\n",
    "site_id = '04180000'\n",
    "resolution = '13'"
   ]
  },
  {
   "cell_type": "code",
   "execution_count": null,
   "id": "e8a53b2a-0ffc-4e38-b1ee-29f82912eb01",
   "metadata": {
    "tags": []
   },
   "outputs": [],
   "source": [
    "params_dem_fetch = {\"site_id\": site_id,\n",
    "                    \"resolution\": resolution}\n",
    "params_dem_fetch"
   ]
  },
  {
   "cell_type": "markdown",
   "id": "0ef7113a-e97f-49ed-9ec2-2cecee8ad5ba",
   "metadata": {},
   "source": [
    "## <span style=\"color:green\">HPC tool</span>\n",
    "<p style='text-align: justify;'> TWe will use Cyber GIS comupte tool from UIUC</p> "
   ]
  },
  {
   "cell_type": "code",
   "execution_count": null,
   "id": "8d4bab81-b575-46c3-80b6-a17f7e636e85",
   "metadata": {
    "tags": []
   },
   "outputs": [],
   "source": [
    "import cybergis_compute_client\n",
    "from cybergis_compute_client import CyberGISCompute\n",
    "import os"
   ]
  },
  {
   "cell_type": "markdown",
   "id": "442607bb-57d2-4ba9-a7b4-694c1a0a2350",
   "metadata": {},
   "source": [
    "## <span style=\"color:green\">Step 1: Access DEM raster tiles to cover the watershed corresponding for given site_id and resolution</span>\n",
    "<p style='text-align: justify;'> </p> "
   ]
  },
  {
   "cell_type": "code",
   "execution_count": null,
   "id": "0595c699-55ea-4dab-be69-67a36573831e",
   "metadata": {
    "tags": []
   },
   "outputs": [],
   "source": [
    "cybergis = CyberGISCompute(url=\"cgjobsup.cigi.illinois.edu\", isJupyter=True, protocol=\"HTTPS\", port=443, suffix=\"v2\")\n",
    "cybergis.show_ui(defaultJob=\"Watershed_DEM_Raster_Connector\", input_params=params_dem_fetch)"
   ]
  },
  {
   "cell_type": "markdown",
   "id": "ed092536-7b74-40c7-a0d1-b6973371c994",
   "metadata": {},
   "source": [
    "## <span style=\"color:green\">WAIT UNTIL LAST JOB IS FINISHED. CHECK \"Your Job Status\" TAB BEFORE PROCEEDING</span>\n",
    "<p style='text-align: justify;'> </p> "
   ]
  },
  {
   "cell_type": "code",
   "execution_count": null,
   "id": "1e30ca91-3a05-4612-b274-e0b536521ef3",
   "metadata": {
    "tags": []
   },
   "outputs": [],
   "source": [
    "## Collect the job id from previous job\n",
    "jobid_dem_connector = cybergis.job.id\n",
    "jobid_dem_connector"
   ]
  },
  {
   "cell_type": "markdown",
   "id": "afcd1347-941a-4036-8be8-0c732c3c9178",
   "metadata": {},
   "source": [
    "## <span style=\"color:green\">Step 2: Merge the downloaded DEM raster tiles </span>\n",
    "<p style='text-align: justify;'> </p> "
   ]
  },
  {
   "cell_type": "code",
   "execution_count": null,
   "id": "58d03510-ac47-4738-b344-4fcf95e1f0a1",
   "metadata": {
    "tags": []
   },
   "outputs": [],
   "source": [
    "params_dem_merge = {\"input_path\": jobid_dem_connector,\n",
    "                    \"merged_filename\": f'merged_{resolution}_{site_id}'}\n",
    "params_dem_merge"
   ]
  },
  {
   "cell_type": "code",
   "execution_count": null,
   "id": "553f6ab8-2189-4ae6-8ab2-b1a622a32d96",
   "metadata": {
    "tags": []
   },
   "outputs": [],
   "source": [
    "cybergis = CyberGISCompute(url=\"cgjobsup.cigi.illinois.edu\", isJupyter=True, protocol=\"HTTPS\", port=443, suffix=\"v2\")\n",
    "cybergis.show_ui(defaultJob=\"DEM_Raster_Merging_Processor\", input_params=params_dem_merge)"
   ]
  },
  {
   "cell_type": "markdown",
   "id": "d744cba8-8c37-46a9-a58e-19f1568ae43a",
   "metadata": {},
   "source": [
    "## <span style=\"color:green\">WAIT UNTIL LAST JOB IS FINISHED. CHECK \"Your Job Status\" TAB BEFORE PROCEEDING</span>\n",
    "<p style='text-align: justify;'> </p> "
   ]
  },
  {
   "cell_type": "code",
   "execution_count": null,
   "id": "480cfcd0-8ffb-4b61-9f10-fd928cc151ab",
   "metadata": {
    "tags": []
   },
   "outputs": [],
   "source": [
    "## Collect the job id from previous job\n",
    "jobid_dem_merge = cybergis.job.id\n",
    "jobid_dem_merge"
   ]
  },
  {
   "cell_type": "markdown",
   "id": "592ff037-2fb3-42c5-b1ed-9fec5581f500",
   "metadata": {},
   "source": [
    "## <span style=\"color:green\">Step 3: Reproject the watershed shapefile and merged raster tile to projected coordinate system </span>\n",
    "<p style='text-align: justify;'> </p> "
   ]
  },
  {
   "cell_type": "code",
   "execution_count": null,
   "id": "106637ea-d9b5-45cf-8ba4-914b3d6ad526",
   "metadata": {
    "tags": []
   },
   "outputs": [],
   "source": [
    "params_dem_reproject = {\"raster_path\": jobid_dem_merge,\n",
    "                        \"site_id\": site_id,\n",
    "                        \"resolution\": resolution}\n",
    "params_dem_reproject"
   ]
  },
  {
   "cell_type": "code",
   "execution_count": null,
   "id": "b04e92fe-e3aa-48d6-9ca4-5e9450abdae7",
   "metadata": {
    "tags": []
   },
   "outputs": [],
   "source": [
    "cybergis = CyberGISCompute(url=\"cgjobsup.cigi.illinois.edu\", isJupyter=True, protocol=\"HTTPS\", port=443, suffix=\"v2\")\n",
    "cybergis.show_ui(defaultJob=\"DEM_Raster_Reprojection_Processor\", input_params=params_dem_reproject)"
   ]
  },
  {
   "cell_type": "markdown",
   "id": "00cb462a-d9b4-4505-a757-a23a480182af",
   "metadata": {},
   "source": [
    "## <span style=\"color:green\">WAIT UNTIL LAST JOB IS FINISHED. CHECK \"Your Job Status\" TAB BEFORE PROCEEDING</span>\n",
    "<p style='text-align: justify;'> </p> "
   ]
  },
  {
   "cell_type": "code",
   "execution_count": null,
   "id": "95938bc5-6925-4651-ba4d-a65134676201",
   "metadata": {
    "tags": []
   },
   "outputs": [],
   "source": [
    "## Collect the job id from previous job\n",
    "jobid_dem_reproject = cybergis.job.id\n",
    "jobid_dem_reproject"
   ]
  },
  {
   "cell_type": "markdown",
   "id": "91d2b678-4b61-43e9-b74b-1c05d0fd6375",
   "metadata": {},
   "source": [
    "## <span style=\"color:green\">Step 4: Clip the reprojected raster tile using the projected watershed shapefile </span>\n",
    "<p style='text-align: justify;'> </p> "
   ]
  },
  {
   "cell_type": "code",
   "execution_count": null,
   "id": "4a0d6c94-97ca-4c1a-880d-40811bcc7709",
   "metadata": {
    "tags": []
   },
   "outputs": [],
   "source": [
    "params_dem_clip = {\"raster_path\": jobid_dem_reproject,\n",
    "                   \"site_id\": site_id,\n",
    "                   \"resolution\": resolution}\n",
    "params_dem_clip"
   ]
  },
  {
   "cell_type": "markdown",
   "id": "91405513-6ed7-4d1d-b119-ed22f7561a6c",
   "metadata": {
    "tags": []
   },
   "source": [
    "<h4 style=\"color:red;\"> User Interaction Required </h4>\n",
    "\n",
    "- Run the cell below \n",
    "- Click on \"Submit Job\" on the \"Your Job Status\" tabpage \n",
    "- Wait until Job is finished (2-3 mins)\n",
    "- Switch to \"Download Job Result\" tabpage\n",
    "- Choose \"/\" and click on Download\n",
    "- Wait until downloading is finished\n",
    "- Proceed to the next cell"
   ]
  },
  {
   "cell_type": "code",
   "execution_count": null,
   "id": "afdb26e6-8d30-47c6-ba1b-c43fcbba3d25",
   "metadata": {
    "tags": []
   },
   "outputs": [],
   "source": [
    "cybergis = CyberGISCompute(url=\"cgjobsup.cigi.illinois.edu\", isJupyter=True, protocol=\"HTTPS\", port=443, suffix=\"v2\")\n",
    "cybergis.show_ui(defaultJob=\"DEM_Raster_Clipping_Processor\", input_params=params_dem_clip)"
   ]
  },
  {
   "cell_type": "markdown",
   "id": "7cc11775-66d4-4ab0-840f-7122e4576435",
   "metadata": {},
   "source": [
    "## <span style=\"color:green\">VERY IMPORTANT. THERE ARE TWO STEPS HERE AS FOLLOWS: \n",
    "1. WAIT UNTIL LAST JOB IS FINISHED. CHECK \"Your Job Status\" TAB BEFORE PROCEEDING\n",
    "2. GO TO \"DOWNLOAD JOB ...\" TAB AND CLICK DOWNLOAD TO SAVE THE FILE LOCALLY FOR PLOTTING</span>\n",
    "<p style='text-align: justify;'> </p>"
   ]
  },
  {
   "cell_type": "code",
   "execution_count": null,
   "id": "332ea1e5-7c3e-49fb-ada0-e55cdfa7d169",
   "metadata": {
    "tags": []
   },
   "outputs": [],
   "source": [
    "clipped_output = cybergis.recentDownloadPath\n",
    "clipped_output\n",
    "if not os.path.isfile(os.path.join(clipped_output, f'clipped_raster_{site_id}.tif')):\n",
    "    display(HTML('<h4 style=\"color:red;\">It appears you did not download the job results per instruction above, please double check!</h4>'))"
   ]
  },
  {
   "cell_type": "markdown",
   "id": "ecd4de27-f3b4-4ced-8ac1-fb9258fef942",
   "metadata": {},
   "source": [
    "## <span style=\"color:green\">Step 5: Visualize the clipped raster data </span>"
   ]
  },
  {
   "cell_type": "code",
   "execution_count": null,
   "id": "d41cfe05-007f-4db4-b284-0d2a2a86c46e",
   "metadata": {
    "tags": []
   },
   "outputs": [],
   "source": [
    "import matplotlib.pyplot as plt\n",
    "import rasterio\n",
    "import rasterio.plot\n",
    "\n",
    "fig, ax = plt.subplots(figsize=(8, 8))\n",
    "\n",
    "clipped_raster_output = cybergis.recentDownloadPath\n",
    "local_raster_filename=fr'{clipped_raster_output}/clipped_raster_{site_id}.tif'\n",
    "raster = rasterio.open(local_raster_filename)\n",
    "rasterio.plot.show(raster,\n",
    "                   ax=ax,\n",
    "                   cmap='viridis')\n",
    "## Free up memory\n",
    "del raster\n",
    "del fig,ax"
   ]
  },
  {
   "cell_type": "markdown",
   "id": "7ba0cf35-a8c2-42fd-a52c-2eba6593dc12",
   "metadata": {},
   "source": [
    "## <span style=\"color:green\">We are done. Congraluations! </span>"
   ]
  },
  {
   "cell_type": "code",
   "execution_count": null,
   "id": "b0985d04-ce3c-4569-9f34-4e4643df9711",
   "metadata": {},
   "outputs": [],
   "source": []
  }
 ],
 "metadata": {
  "kernelspec": {
   "display_name": "iguide-ewd",
   "language": "python",
   "name": "iguide-ewd"
  },
  "language_info": {
   "codemirror_mode": {
    "name": "ipython",
    "version": 3
   },
   "file_extension": ".py",
   "mimetype": "text/x-python",
   "name": "python",
   "nbconvert_exporter": "python",
   "pygments_lexer": "ipython3",
   "version": "3.10.11"
  }
 },
 "nbformat": 4,
 "nbformat_minor": 5
}
