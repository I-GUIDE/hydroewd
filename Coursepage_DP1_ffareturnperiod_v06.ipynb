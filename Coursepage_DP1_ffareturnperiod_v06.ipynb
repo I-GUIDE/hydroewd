{
 "cells": [
  {
   "cell_type": "markdown",
   "metadata": {},
   "source": [
    "## <span style=\"color:green\"><h1><center>Calculation of Return Period Flow from Peak Flow Data </center></h1></span>\n",
    "<center>Prepared by <br>\n",
    "    <b>Jibin Joseph and Venkatesh Merwade</b><br> \n",
    "Lyles School of Civil Engineering, Purdue University<br>\n",
    "joseph57@purdue.edu, vmerwade@purdue.edu<br>\n",
    "<b><br>\n",
    "    FAIR Science in Water Resources</b><br></center>"
   ]
  },
  {
   "cell_type": "markdown",
   "metadata": {
    "tags": []
   },
   "source": [
    "## <span style=\"color:green\">Introduction</span>\n",
    "This program downloads peak flow data from USGS Surface Data Portal for a USER_INPUT station and calculates the flow \n",
    "corresponding to (different) return period\n",
    "\n",
    "This code is written in Python 3 format\n",
    "\n",
    "Revision No: 06\n",
    "\n",
    "Last Revised : 2023-08-05"
   ]
  },
  {
   "cell_type": "markdown",
   "metadata": {},
   "source": [
    "## <span style=\"color:green\">Import the packages/modules required for this exercise</span>\n",
    "\n",
    "<p> We need the following packages: urllib.parse, urllib.request, math, scipy.stats, numpy (np), gamma from scipy.stats, and invgamma from scipy.stats. The paranthesis contains the commonly used short forms for these libraries.</p>"
   ]
  },
  {
   "cell_type": "code",
   "execution_count": null,
   "metadata": {
    "tags": []
   },
   "outputs": [],
   "source": [
    "## CELL-01\n",
    "\n",
    "## Import the required Modules/Packages for obtaining the data from portal\n",
    "import urllib.parse\n",
    "import urllib.request\n",
    "\n",
    "## Import the required Modules/Packages for calculating return period flow (cipy \n",
    "import math\n",
    "import matplotlib.pyplot as plt\n",
    "\n",
    "import numpy as np\n",
    "#import csv\n",
    "\n",
    "import os\n",
    "from scipy.stats import gamma\n",
    "from scipy.stats import invgamma\n",
    "import scipy.stats"
   ]
  },
  {
   "cell_type": "markdown",
   "metadata": {},
   "source": [
    "## <span style=\"color:green\">Definition of Function for retrieval of Peak Flow Data</span> \n",
    "\n",
    "<p style='text-align: justify;'>Let us define the first definition block in Python to collect the data from the USGS web link using urllib package. This definition block will be later invoked in the code.</p>\n",
    "<ul>\n",
    "<li>Step 1: <span style=\"color:red\">Build the url using the station code.</span></li>\n",
    "<li>Step 2: <span style=\"color:red\">Access the data using the url and gather the data (date, flow data, station name</span></li>\n",
    "<li>Step 3: <span style=\"color:red\">Decode the data and extract only the required data</span></li>\n",
    "<li>Step 4: <span style=\"color:red\">Return the flow data and station name</span></li>"
   ]
  },
  {
   "cell_type": "code",
   "execution_count": null,
   "metadata": {
    "tags": []
   },
   "outputs": [],
   "source": [
    "## CELL-02\n",
    "\n",
    "## Define a function for obtaining the peak flow data from USGS NWIS Web Interface\n",
    "## Input (Arguments) - station number and folder name\n",
    "## Output (Return) - peak streamflow and station name\n",
    "def GetPeakFlowData_func(station_number,FolderName):\n",
    "    ## Building URLs\n",
    "    var1 = {'site_no': station_number}\n",
    "    part1 = 'https://nwis.waterdata.usgs.gov/nwis/peak?'\n",
    "    part2 = '&agency_cd=USGS&format=rdb'\n",
    "    link = (part1 + urllib.parse.urlencode(var1) + part2)\n",
    "    print(\"The USGS Link is: \\n\",link)\n",
    "    \n",
    "    ## Opening the link & retrieving data\n",
    "    response = urllib.request.urlopen(link)\n",
    "    page_data = response.read()\n",
    "    \n",
    "    ## File name assigning & storing the raw data as text file\n",
    "    ## w - Open a file for writing. Creates a new file if it does not exist or truncates the file if it exists.\n",
    "    ## b - Opens in binary mode.\n",
    "    with open(FolderName+'/Data_' + station_number + '_raw'  + '.txt', 'wb') as f1:\n",
    "        f1.write(page_data)\n",
    "    ## Usually we need to use f1.close() if we open a file using \"open\" statement\n",
    "    ## But using \"with open\", the file is closed when the block inside the the with statement is exited \n",
    "    ## It is done internally.\n",
    "    \n",
    "    ## Check if the file has been automatically closed.\n",
    "    #f.closed\n",
    "     \n",
    "    \n",
    "    print(\"\\nDownload complete for USGS Station Number: \", station_number)\n",
    "    \n",
    "    ## Converts html from bytes class to str class\n",
    "    html = page_data.decode()\n",
    "    ## Splits the string by \\n and converts list\n",
    "    html2 = html.split('\\r\\n')\n",
    "    \n",
    "    ## To extract the station name for returning from the function call\n",
    "    line_no=0\n",
    "    for line_no in range(len(html2)):\n",
    "        ## Check if first six (use 0:7) characters is \"#  USGS\",\n",
    "        if html2[line_no][0:7]==\"#  USGS\":\n",
    "            station_name=html2[line_no][3:]\n",
    "            break\n",
    "        line_no+=1\n",
    "    \n",
    "    ## Define an empty string and list\n",
    "    reqd_data = '' ## for storing data in the folder\n",
    "    reqd_flow_list=[] ## to return from the function\n",
    "    \n",
    "    for line in html2[74:]:\n",
    "        ## Splits each line to col by tab separator\n",
    "        cols = line.split('\\t')\n",
    "        if len(cols) == 1:\n",
    "            continue\n",
    "        ## Joins only date and peakflow\n",
    "        ## cols[2] corresponds to date of peak streamflow (format YYYY-MM-DD)\n",
    "        ## cols[4] corresponds to annual peak streamflow value in cfs\n",
    "        newline = ','.join([cols[2],(cols[4])])\n",
    "        reqd_data += newline + '\\n'\n",
    "        \n",
    "        ## Append the flow value to the list and return from the function call\n",
    "        reqd_flow_list.append((cols[4]))\n",
    "\n",
    "    \n",
    "    ## Converts reqd_data from str class to bytes class\n",
    "    reqd_data = reqd_data.encode()\n",
    "    \n",
    "    ## Saves the date and peakflow into a new file\n",
    "    with open(FolderName+'/Data_' + station_number + '_reqd'  + '.txt', 'wb') as f2:\n",
    "        f2.write(reqd_data)\n",
    "        \n",
    "    ## Check if the file has been automatically closed.\n",
    "    #f.closed\n",
    "\n",
    "    print(\"\\nRaw Data and Processed Data is stored in the folder for station: \", station_name)\n",
    "    \n",
    "    ## Returns the peak streamflow data as a list (for calculation of the return period in the turn-in part) \n",
    "    ## and the station name (for using in plots)\n",
    "    return (reqd_flow_list,station_name)"
   ]
  },
  {
   "cell_type": "markdown",
   "metadata": {},
   "source": [
    "## <span style=\"color:green\">MAIN CODE</span> \n",
    "Now, the user has to input the station number of the desired USGS Station. It executes the definition block and stores the data in the folder."
   ]
  },
  {
   "cell_type": "code",
   "execution_count": null,
   "metadata": {
    "scrolled": true,
    "tags": []
   },
   "outputs": [],
   "source": [
    "\n",
    "\n",
    "## CELL-03\n",
    "\n",
    "## WRITE THE CODE BELOW\n",
    "station_number=input(\"Enter USGS Station Number of the Required Station (USGS Station Number/site_no) \\t\")\n",
    "\n",
    "print('\\t')\n",
    "FolderName=\"./Results\"\n",
    "\n",
    "## Make folder to save the results\n",
    "if os.path.exists(FolderName) == False:\n",
    "    os.mkdir(FolderName)\n",
    "\n",
    "peakflow_list_wb,station_name=GetPeakFlowData_func(station_number,FolderName)\n",
    "print(\"\\nThe station name is:\", station_name,\"\\n\")"
   ]
  },
  {
   "cell_type": "markdown",
   "metadata": {},
   "source": [
    "## <span style=\"color:green\">Time Series Plot</span>"
   ]
  },
  {
   "cell_type": "code",
   "execution_count": null,
   "metadata": {
    "tags": []
   },
   "outputs": [],
   "source": [
    "## CELL-04\n",
    "\n",
    "## To create a time series plot of peak flow data by opening the saved file\n",
    "import pandas as pd\n",
    "## Assigning column names\n",
    "colnames=['Date','PeakFlow']\n",
    "df = pd.read_csv(FolderName+'/Data_' + station_number + '_reqd'  + '.txt',\n",
    "                 header=None,names=colnames,parse_dates=[0])\n",
    "\n",
    "## Setting the index of dataframe as the Date column\n",
    "df=df.set_index(['Date'])\n",
    "\n",
    "plt.plot(df['PeakFlow'], \n",
    "         marker='*',\n",
    "         linestyle='dashed',#$ \\mathrm {{{}}} $\".format(symbol), \n",
    "         color = 'r',\n",
    "         markersize=8)\n",
    "plt.ylabel(\"Discharge (in cfs)\")\n",
    "plt.xlabel(\"Time (in Years)\")\n",
    "plt.title(\"Time Series Plot of Peak Flows\\n(\"+station_name+\")\")"
   ]
  },
  {
   "cell_type": "markdown",
   "metadata": {},
   "source": [
    "## <span style=\"color:green\">Years for Analysis</span> \n",
    "\n",
    "Now, the user has to input enter the four values for dates. This should be properly entered otherwise you will get an error message \"Error in length of data and check whether it is continuous\"."
   ]
  },
  {
   "cell_type": "code",
   "execution_count": null,
   "metadata": {
    "tags": []
   },
   "outputs": [],
   "source": [
    "## CELL-05\n",
    "\n",
    "## Enter the four years for carrying out the analysis\n",
    "## Input data & analysis years\n",
    "\n",
    "#data_start_year=int(input(\"Enter the starting year of DATA PERIOD (excluding initial break period):\"))\n",
    "print('\\t')\n",
    "#data_end_year=int(input(\"Enter the ending year of DATA PERIOD:\"))\n",
    "print('\\t')\n",
    "#analysis_start_year=int(input(\"Enter the starting year of ANALYSIS PERIOD:\"))\n",
    "print('\\t')\n",
    "#analysis_end_year=int(input(\"Enter the ending year of ANALYSIS PERIOD:\"))\n",
    "print('\\t')"
   ]
  },
  {
   "cell_type": "markdown",
   "metadata": {},
   "source": [
    "## <span style=\"color:green\">Calculation of Return Period</span> \n",
    "Next, we have to write the code for performing the calculations of return period (using LP3 method) flow using moving average method."
   ]
  },
  {
   "cell_type": "code",
   "execution_count": null,
   "metadata": {
    "tags": []
   },
   "outputs": [],
   "source": [
    "## CELL-06\n",
    "\n",
    "## WRITE YOUR CODE HERE\n"
   ]
  },
  {
   "cell_type": "code",
   "execution_count": null,
   "metadata": {},
   "outputs": [],
   "source": [
    "type(flow_matrix)"
   ]
  },
  {
   "cell_type": "code",
   "execution_count": null,
   "metadata": {},
   "outputs": [],
   "source": []
  }
 ],
 "metadata": {
  "kernelspec": {
   "display_name": "Python [conda env:iguide-ewd]",
   "language": "python",
   "name": "conda-env-iguide-ewd-py"
  },
  "language_info": {
   "codemirror_mode": {
    "name": "ipython",
    "version": 3
   },
   "file_extension": ".py",
   "mimetype": "text/x-python",
   "name": "python",
   "nbconvert_exporter": "python",
   "pygments_lexer": "ipython3",
   "version": "3.10.11"
  }
 },
 "nbformat": 4,
 "nbformat_minor": 4
}
