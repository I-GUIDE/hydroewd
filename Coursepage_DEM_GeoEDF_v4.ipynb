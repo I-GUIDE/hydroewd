{
 "cells": [
  {
   "cell_type": "markdown",
   "id": "6cea8b31-ee96-43e6-8406-48991c0cae92",
   "metadata": {},
   "source": [
    "## <span style=\"color:green\"><h1><center>HPC TOOL: DEM Accessing & Processing (Single Job)</center></h1></span>\n",
    "<center>Prepared by <br>\n",
    "    <b>Rajesh Kalyanam*, Jibin Joseph^, and Venkatesh Merwade^</b><br> \n",
    "* Rosen Center for Advanced Computing, Purdue University<br> \n",
    "^ Lyles School of Civil Engineering, Purdue University<br> \n",
    "vmerwade@purdue.edu<br>\n",
    "<b><br>\n",
    "    FAIR Science in Water Resources</b><br></center>\n"
   ]
  },
  {
   "cell_type": "markdown",
   "id": "1e3690f5-d06d-4ac1-b765-7b1900d3e927",
   "metadata": {},
   "source": [
    "## <span style=\"color:green\">Objective</span>\n",
    "<p style='text-align: justify;'> The objective of this tutorial is to perform the accessing and processing of DEM data for larger watersheds. Once you input the site ID and resolution, the tutorial will output clipped DEM raster for any regions across CONUS. The final output for USGS 08159500 Colorado River at Smithville, TX will be shown below.</p> \n",
    "\n",
    "![My Image](final_image_08159500.JPG)"
   ]
  },
  {
   "cell_type": "code",
   "execution_count": null,
   "id": "8d4bab81-b575-46c3-80b6-a17f7e636e85",
   "metadata": {
    "tags": []
   },
   "outputs": [],
   "source": [
    "import cybergis_compute_client\n",
    "from cybergis_compute_client import CyberGISCompute\n",
    "from IPython.display import Image, display, HTML\n",
    "import os\n",
    "from pynhd import NLDI\n",
    "import matplotlib.pyplot as plt"
   ]
  },
  {
   "cell_type": "markdown",
   "id": "baf0d98e-c208-4558-bc0c-1d279a894dcc",
   "metadata": {},
   "source": [
    "## <span style=\"color:green\">Step 1: Define the variables</span>"
   ]
  },
  {
   "cell_type": "code",
   "execution_count": null,
   "id": "2f3b5d82-6710-48aa-85e9-08f35278bdff",
   "metadata": {
    "tags": []
   },
   "outputs": [],
   "source": [
    "## WRITE YOUR CODE\n",
    "site_id = '08159500' # Let us use 08159500 Colorado River at Smithville in Texas (40,371 sq mi) needs 20 DEM tiles\n",
    "resolution = '1' # \"Let us use 1 denoting 1 arc-second (1 for 1 arc-second, 13 for 1/3 arc-second)\""
   ]
  },
  {
   "cell_type": "code",
   "execution_count": null,
   "id": "e8a53b2a-0ffc-4e38-b1ee-29f82912eb01",
   "metadata": {
    "tags": []
   },
   "outputs": [],
   "source": [
    "params_dem_process = {\"site_id\": site_id,\n",
    "                    \"resolution\": resolution}\n",
    "params_dem_process"
   ]
  },
  {
   "cell_type": "code",
   "execution_count": null,
   "id": "36b52c24-6759-442f-968f-4a0c0bc37fc5",
   "metadata": {},
   "outputs": [],
   "source": [
    "watershed=NLDI().get_basins(site_id,fsource='nwissite')\n",
    "\n",
    "## Transform to Albers Equal Area projection (EPSG:5070)\n",
    "watershed_albers = watershed.to_crs(epsg=5070)\n",
    "## Calculate the area in square miles\n",
    "## 1 square meter = 0.386102 square miles\n",
    "watershed_albers['area_sq_mi'] = watershed_albers.area / 1e6 * 0.386102  \n",
    "#print(watershed_albers['area_sq_mi'][0])\n",
    "\n",
    "## Plot the watershed\n",
    "## DD indicates latitude/ longitude degrees is in decimal\n",
    "ax = watershed.plot(facecolor=\"b\", \n",
    "                    edgecolor=\"k\", \n",
    "                    figsize=(8, 8))\n",
    "plt.title(f\"Watershed Shapefile in {watershed.crs} Projected CRS\\n(USGS:{site_id}, \"+\n",
    "          f\"Area = {round(watershed_albers['area_sq_mi'].iloc[0],2)} sq. mi.)\")\n",
    "plt.xlabel(\"Longitude (DD)\")\n",
    "plt.ylabel(\"Longitude (DD)\")"
   ]
  },
  {
   "cell_type": "markdown",
   "id": "442607bb-57d2-4ba9-a7b4-694c1a0a2350",
   "metadata": {},
   "source": [
    "## <span style=\"color:green\">Step 2: HPC Job Submission</span>"
   ]
  },
  {
   "cell_type": "markdown",
   "id": "91405513-6ed7-4d1d-b119-ed22f7561a6c",
   "metadata": {
    "tags": []
   },
   "source": [
    "<h4 style=\"color:red;\"> User Interaction Required </h4>\n",
    "\n",
    "- Run the cell below\n",
    "- In the \"Job Configuration\" tabpage , \"Set time (Minutes) to 30 and cpus_per_task to 128\n",
    "- Check the input parameters\n",
    "- Click on \"Submit Job\".\n",
    "- In the \"Your Job Status\" tabpage, wait until Job is finished (2-3 mins). You will see \"your job completed\" at the bottom\n",
    "- Switch to \"Download Job Result\" tabpage\n",
    "- Choose \"/preview\" and click on Download\n",
    "- Wait until downloading is finished\n",
    "- Proceed to the next cell"
   ]
  },
  {
   "cell_type": "code",
   "execution_count": null,
   "id": "0595c699-55ea-4dab-be69-67a36573831e",
   "metadata": {
    "tags": []
   },
   "outputs": [],
   "source": [
    "cybergis = CyberGISCompute(url=\"cgjobsup.cigi.illinois.edu\", isJupyter=True, protocol=\"HTTPS\", port=443, suffix=\"v2\")\n",
    "cybergis.show_ui(defaultJob=\"Watershed_DEM_Processing\", input_params=params_dem_process)"
   ]
  },
  {
   "cell_type": "markdown",
   "id": "ecd4de27-f3b4-4ced-8ac1-fb9258fef942",
   "metadata": {},
   "source": [
    "## <span style=\"color:green\">Step 3: Plotting the clipped DEM (preview)</span>"
   ]
  },
  {
   "cell_type": "code",
   "execution_count": null,
   "id": "d41cfe05-007f-4db4-b284-0d2a2a86c46e",
   "metadata": {
    "tags": []
   },
   "outputs": [],
   "source": [
    "clipped_preview_output = cybergis.recentDownloadPath\n",
    "clipped_preview_file = os.path.join(clipped_preview_output, f'clipped_raster_{site_id}.png')\n",
    "print(clipped_preview_file)\n",
    "if not os.path.isfile(clipped_preview_file):\n",
    "    display(HTML('<h4 style=\"color:red;\">It appears you did not download the job results per instruction above, please double check!</h4>'))\n",
    "Image(filename=clipped_preview_file) "
   ]
  },
  {
   "cell_type": "markdown",
   "id": "7ba0cf35-a8c2-42fd-a52c-2eba6593dc12",
   "metadata": {},
   "source": [
    "## DONE"
   ]
  }
 ],
 "metadata": {
  "kernelspec": {
   "display_name": "iguide-ewd",
   "language": "python",
   "name": "iguide-ewd"
  },
  "language_info": {
   "codemirror_mode": {
    "name": "ipython",
    "version": 3
   },
   "file_extension": ".py",
   "mimetype": "text/x-python",
   "name": "python",
   "nbconvert_exporter": "python",
   "pygments_lexer": "ipython3",
   "version": "3.10.11"
  }
 },
 "nbformat": 4,
 "nbformat_minor": 5
}
