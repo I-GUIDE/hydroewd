{
 "cells": [
  {
   "cell_type": "markdown",
   "metadata": {},
   "source": [
    "## <span style=\"color:green\"><h1><center>DEM Processing</center></h1></span>\n",
    "<center>Prepared by <br>\n",
    "    <b>Jibin Joseph and Venkatesh Merwade</b><br> \n",
    "Lyles School of Civil Engineering, Purdue University<br>\n",
    "joseph57@purdue.edu, vmerwade@purdue.edu<br>\n",
    "<b><br>\n",
    "    FAIR Science in Water Resources</b><br></center>\n"
   ]
  },
  {
   "cell_type": "markdown",
   "metadata": {},
   "source": [
    "## <span style=\"color:green\">Objective</span>\n",
    "<p style='text-align: justify;'> The objective of this tutorial is to learn how to merge, project, and clip the DEM raster files. We will use the downloaded DEM raster files from USGS National Elevation Dataset from previous DEM Downloading module.</p> "
   ]
  },
  {
   "cell_type": "markdown",
   "metadata": {},
   "source": [
    "## <span style=\"color:green\"> Data Source </span>\n",
    "\n",
    "<p style='text-align: justify;'>USGS DEM Tiles</p>"
   ]
  },
  {
   "cell_type": "markdown",
   "metadata": {},
   "source": [
    "## <span style=\"color:green\">Overview of steps </span>\n",
    "<ol type=\"1\">\n",
    "    <span style=\"color:red\"><li>Read and plot original files</li></span>\n",
    "    <span style=\"color:red\"><li>Merge or Mosaick the the original files (not needed if only one raster sile is downloaded)</li></span>\n",
    "     <span style=\"color:red\"><li>Reproject or Transform coordinate system fro Goegraphic to Projected Coordinate System</li></span>\n",
    "    <span style=\"color:red\"><li>Clipping or Masking the reprojected raster file</li></span>\n",
    "\n"
   ]
  },
  {
   "cell_type": "markdown",
   "metadata": {},
   "source": [
    "## <span style=\"color:green\">Import the packages/modules required for this exercise</span>\n",
    "\n",
    "We need different packages as shown below. It can be either installed using pip method or conda method.\n"
   ]
  },
  {
   "cell_type": "code",
   "execution_count": null,
   "metadata": {
    "tags": []
   },
   "outputs": [],
   "source": [
    "## Import the modules/packages/libraries required\n",
    "import math\n",
    "import matplotlib.pyplot as plt\n",
    "import os\n",
    "\n",
    "from pynhd import NLDI\n",
    "import rasterio\n",
    "import rasterio.plot\n",
    "\n",
    "import geopandas as gpd# for reading the shapefile\n",
    "\n",
    "## Merging/ Mosaicking\n",
    "from rasterio.merge import merge\n",
    "\n",
    "## Reprojecting\n",
    "from rasterio.warp import calculate_default_transform, reproject, Resampling\n",
    "import pyproj\n",
    "\n",
    "## Clipping\n",
    "from rasterio.mask import mask\n",
    "from shapely.geometry import mapping\n",
    "from shapely.geometry import Polygon\n",
    "\n",
    "from os.path import expanduser"
   ]
  },
  {
   "cell_type": "code",
   "execution_count": null,
   "metadata": {
    "tags": []
   },
   "outputs": [],
   "source": [
    "## Print the version number\n",
    "import pynhd\n",
    "print(\"PyNHD version: \",pynhd.__version__)\n",
    "del pynhd\n",
    "\n",
    "print(\"Rasterio version: \",rasterio.__version__)\n",
    "print(\"Geopandas version: \",gpd.__version__)\n",
    "print(\"PyProj version: \",pyproj.__version__)\n",
    "\n",
    "import shapely\n",
    "print(\"Shapely version: \",shapely.__version__)\n",
    "del shapely\n"
   ]
  },
  {
   "cell_type": "markdown",
   "metadata": {},
   "source": [
    "## <span style=\"color:green\">Step 1: Define the variables and plot unmerged raster files</span> \n",
    "<ul>\n",
    "<li>Variables: <span style=\"color:red\">USGS Site, resolution, directories, extents</span></li>\n",
    "<li>Plot Unmerged files: <span style=\"color:red\">using rasterio plot</span></li>"
   ]
  },
  {
   "cell_type": "code",
   "execution_count": null,
   "metadata": {
    "tags": []
   },
   "outputs": [],
   "source": [
    "## Few variables from previous DEM Access Modules\n",
    "site_id='03363000'\n",
    "resolution='1'\n",
    "folder_main=f\"{expanduser('~')}/scratch/DEM_Access\"\n",
    "folder_input=f'{folder_main}/data_{site_id}'\n",
    "dem_files_store=f'{folder_input}/raw_{site_id}'\n",
    "##Read the shapefile using geopandas\n",
    "watershed =gpd.read_file(f'{folder_input}/shape_{site_id}.shp')\n",
    "## Get the extents and number of tiles downloaded\n",
    "extents_basin=watershed.total_bounds\n",
    "extent_left=abs(math.floor(extents_basin[0]))\n",
    "extent_right=abs(math.floor(extents_basin[2]))\n",
    "extent_bottom=abs(math.ceil(extents_basin[1]))\n",
    "extent_top=abs(math.ceil(extents_basin[3]))\n",
    "num_tiles_download=(((extent_left+1)-extent_right)*((extent_top+1)-extent_bottom))\n",
    "## Define a empty list to hold lon and lat pair\n",
    "overlap_lonlat=[]\n",
    "\n",
    "## Create a for loop to create a rectangular boundary and see if overlaps with watershed\n",
    "for lon in (range(extent_right,extent_left+1,1)):\n",
    "    for lat in (range(extent_bottom,extent_top+1,1)):\n",
    "        ## Defining in anticlockwise direction\n",
    "        corner_left_bottom=(-lon,lat-1)\n",
    "        corner_right_bottom=(-lon+1,lat-1)\n",
    "        corner_right_top=(-lon+1,lat)\n",
    "        corner_left_top=(-lon,lat)\n",
    "        \n",
    "        # Create a polygon from the coordinates\n",
    "        rectangular_boundary = Polygon([corner_left_bottom,corner_right_bottom,corner_right_top,corner_left_top])\n",
    "\n",
    "        # Create a GeoDataFrame\n",
    "        rectangular_gdf = gpd.GeoDataFrame(geometry=[rectangular_boundary])\n",
    "        \n",
    "        # Set the coordinate reference system (CRS) if needed\n",
    "        # Example: gdf.crs = {'init': 'epsg:4326'}  # WGS84\n",
    "\n",
    "        rectangular_gdf.crs = watershed.crs\n",
    "\n",
    "        # Perform the overlay operation to find the intersection\n",
    "        intersection = gpd.overlay(watershed, rectangular_gdf, how='intersection')\n",
    "\n",
    "        # Check if there's any intersection\n",
    "        if not intersection.empty:\n",
    "            #print(\"The rectangular polygon overlaps with the shapefile.\")\n",
    "            overlap_lonlat.append((lon,lat))\n",
    "        #else:\n",
    "        #    print(\"The rectangular polygon does not overlap with the shapefile.\")       \n",
    "\n",
    "print(\"The required lon and lat pairs are: \\n\",overlap_lonlat)\n",
    "\n",
    "## Calulate the number of tiles to be downloaded from USGS\n",
    "num_tiles_download=(((extent_left+1)-extent_right)*((extent_top+1)-extent_bottom))\n",
    "print(f\"\\nNumber of tiles required to cover the entire region: {num_tiles_download}\")\n",
    "print(f\"Left: {extent_left}, Right: {extent_right}, Bottom: {extent_bottom}, Top: {extent_top}\")\n",
    "\n",
    "print(f\"\\nNumber of tiles within watershed boundary: {len(overlap_lonlat)}\")\n",
    "\n",
    "if (len(overlap_lonlat)>1):\n",
    "    title=f\"Unmerged Raster DEMs\\n (USGS: {site_id})\"\n",
    "else:\n",
    "    title=f\"Single Raster DEM\\n (USGS: {site_id})\"\n",
    "\n",
    "## Plotting\n",
    "fig, ax = plt.subplots(figsize=(8, 8))\n",
    "for location in overlap_lonlat:\n",
    "        usgs_filename=f'n{location[1]:02d}w{location[0]:03d}'\n",
    "        ## WRITE THE CODE BELOW\n",
    "        local_raster_filename=fr'{dem_files_store}/USGS_{resolution}_{usgs_filename}.tif'\n",
    "        raster = rasterio.open(local_raster_filename)\n",
    "        rasterio.plot.show(raster,\n",
    "                           ax=ax,\n",
    "                           cmap='viridis')\n",
    "        #print(f'lat: {lat},lon: {lon},file:{local_fileloc_filename}')\n",
    "watershed.plot(ax=ax, \n",
    "           facecolor='none', \n",
    "           edgecolor='red')\n",
    "plt.title(title)\n",
    "plt.xlabel(\"Longitude (DD)\")\n",
    "plt.ylabel(\"Longitude (DD)\")\n",
    "\n",
    "## Free up memory\n",
    "del raster,fig,ax"
   ]
  },
  {
   "cell_type": "markdown",
   "metadata": {},
   "source": [
    "## <span style=\"color:green\">Step 2: Merging the raster</span> \n",
    "\n",
    "<ul>\n",
    "<li>Input: <span style=\"color:red\">Downloaded raster tiles</span></li>\n",
    "<li>Output: <span style=\"color:red\">Merged raster tile</span></li>"
   ]
  },
  {
   "cell_type": "markdown",
   "metadata": {
    "deletable": false
   },
   "source": [
    "## <span style=\"color:green\">Step 2a: Create folders for saving the intermediate and results files</span>\n",
    "    "
   ]
  },
  {
   "cell_type": "code",
   "execution_count": null,
   "metadata": {
    "tags": []
   },
   "outputs": [],
   "source": [
    "def check_create_path_func(path):\n",
    "    isExist = os.path.exists(path)\n",
    "    if not isExist:\n",
    "        # Create a new directory because it does not exist\n",
    "        os.makedirs(path)\n",
    "        print(f\"The new directory \\033[1m'{path}'\\033[0m is created!\")\n",
    "    else:\n",
    "        print(f\"The new directory \\033[1m'{path}'\\033[0m is not created as it already exists!\")\n",
    "        \n",
    "folder_process=f\"{expanduser('~')}/scratch/DEM_Process\"\n",
    "check_create_path_func(folder_process)\n",
    "\n",
    "## Create the a folder for intermediate raster files \n",
    "## WRITE THE CODE BELOW\n",
    "\n",
    "\n",
    "\n"
   ]
  },
  {
   "cell_type": "markdown",
   "metadata": {},
   "source": [
    "## <span style=\"color:green\">Step 2b: Merging the rasters (if required)</span>\n",
    "\n",
    "<ul>\n",
    "<li> Define a function for merging the raster files </li>\n",
    "<li> Create a filename for saving the merged raster files </li>\n",
    "<li> Call the defined function merging the rasters</li>"
   ]
  },
  {
   "cell_type": "code",
   "execution_count": null,
   "metadata": {
    "tags": []
   },
   "outputs": [],
   "source": [
    "def merge_dem_raster_func(input_foldername, output_filename):\n",
    "    ## Get a list of all DEM files in the input folder\n",
    "    dem_files = [f for f in os.listdir(input_foldername) if f.startswith(f\"USGS_{resolution}_\")]\n",
    "    ## Create a list to store the raster datasets\n",
    "    datasets = []\n",
    "    ## Open each DEM file and append it to the datasets list\n",
    "    for dem_file in dem_files:\n",
    "        file_path = os.path.join(input_foldername, dem_file)\n",
    "        src = rasterio.open(file_path)\n",
    "        datasets.append(src)\n",
    "    ## Merge the raster datasets into a single mosaic and return ndarray and information on mapping the pixel coordinates\n",
    "    ## WRITE THE CODE BELOW\n",
    "    \n",
    "    \n",
    "    \n",
    "    \n",
    "    ## Copy the metadata from one of the datasets (assuming they all have the same metadata)\n",
    "    out_meta = datasets[0].meta.copy()\n",
    "\n",
    "    out_meta.update({\n",
    "        'height': mosaic_new_raster.shape[1],\n",
    "        'width': mosaic_new_raster.shape[2],\n",
    "        'transform': mosaic_transform ## copy the transform parameter from merge\n",
    "    })\n",
    "    with rasterio.open(output_filename, 'w', **out_meta) as dest:\n",
    "        dest.write(mosaic_new_raster)\n",
    "    ## Close all the opened datasets\n",
    "    for dataset in datasets:\n",
    "        dataset.close()\n",
    "    print(f\"Merging completed for {len(overlap_lonlat)} DEM raster files\")\n",
    "\n",
    "if num_tiles_download==1:\n",
    "    merged_raster_filename=f'{dem_files_store}/USGS_{resolution}_{usgs_filename}.tif'\n",
    "    print(\"No need to merge as only one tiff file\")\n",
    "    title_4_plot=f\"Original DEM Raster (Merging not required) in {watershed.crs} Geographic CRS\\n(for USGS {site_id})\"\n",
    "else:\n",
    "    merged_raster_filename=f'{folder_intermediate}/merged_{resolution}_{site_id}.tif'\n",
    "    ## WRITE THE CODE BELOW\n",
    "    \n",
    "    title_4_plot=f\"Merged DEM Raster in {watershed.crs} Geographic CRS\\n(for USGS {site_id})\""
   ]
  },
  {
   "cell_type": "code",
   "execution_count": null,
   "metadata": {
    "tags": []
   },
   "outputs": [],
   "source": [
    "with rasterio.open(merged_raster_filename) as src:\n",
    "    print(src)\n",
    "    fig, ax = plt.subplots(figsize = (8,8))\n",
    "    mapped=rasterio.plot.show(src,\n",
    "                              ax=ax, \n",
    "                              cmap='viridis')\n",
    "    im = mapped.get_images()[0]\n",
    "    fig.colorbar(im,\n",
    "                 ax=ax,\n",
    "                 shrink=0.5,\n",
    "                 label='Elevation (in meters)',\n",
    "                 location='right',\n",
    "                 orientation='vertical')\n",
    "    ax.set_xlabel(\"Longitude (DD)\")\n",
    "    ax.set_ylabel(\"Latitude (DD)\")\n",
    "    ax.set_title(title_4_plot)\n",
    "    \n",
    "watershed.plot(ax=ax, \n",
    "           facecolor='none', \n",
    "           edgecolor='red')\n",
    "src.close()\n",
    "del mapped,im\n",
    "del fig,ax"
   ]
  },
  {
   "cell_type": "markdown",
   "metadata": {},
   "source": [
    "## <span style=\"color:green\">Step 3: Reproject both the shapefile and raster to PCS from GCS</span>\n",
    "\n",
    "<ul>\n",
    "<li> Find the UTM Zone for Projected Coordinate System using the centroid point </li>\n",
    "<li> Project the merged dem </li>"
   ]
  },
  {
   "cell_type": "code",
   "execution_count": null,
   "metadata": {
    "tags": []
   },
   "outputs": [],
   "source": [
    "## Find if basin has a projection\n",
    "print(watershed.crs)"
   ]
  },
  {
   "cell_type": "markdown",
   "metadata": {},
   "source": [
    "## <span style=\"color:green\">Step 3a: Finding the UTM Zone</span>\n",
    "\n",
    "<ul>\n",
    "<li> Find the approximate centroid </li>    \n",
    "<li> Find whether the centroid is in N or S </li>\n",
    "<li> Calculate the zone value (below calculations applciable to conterminous US) </li>\n"
   ]
  },
  {
   "cell_type": "code",
   "execution_count": null,
   "metadata": {
    "tags": []
   },
   "outputs": [],
   "source": [
    "## Find the approximate centroid\n",
    "df=watershed\n",
    "df['geometry'].centroid\n",
    "## Find the center point\n",
    "df['Center_point'] = df['geometry'].centroid\n",
    "## Extract lat and lon from the centerpoint\n",
    "df[\"lon\"] = df.Center_point.map(lambda p: p.x)\n",
    "df[\"lat\"] = df.Center_point.map(lambda p: p.y)\n",
    "df"
   ]
  },
  {
   "cell_type": "code",
   "execution_count": null,
   "metadata": {
    "tags": []
   },
   "outputs": [],
   "source": [
    "## Calculate N or S\n",
    "if 0 < df['lat'][0] < 84:\n",
    "    lat_zone='N'\n",
    "elif -84 < df['lat'][0] < 0:\n",
    "    lat_zone='S'\n",
    "\n",
    "## Calculate zone \n",
    "## Applicable for US only\n",
    "\n",
    "if -138 < df['lon'][0] < -132:\n",
    "    zone_value='08'\n",
    "elif -132 < df['lon'][0] < -126:\n",
    "    zone_value='09'\n",
    "elif -126 < df['lon'][0] < -120:\n",
    "    zone_value='10'\n",
    "elif -120 < df['lon'][0] < -114:\n",
    "    zone_value='11'\n",
    "elif -114 < df['lon'][0] < -108:\n",
    "    zone_value='12'\n",
    "elif -108 < df['lon'][0] < -102:\n",
    "    zone_value='13'\n",
    "elif -102 < df['lon'][0] < -96:\n",
    "    zone_value='14'\n",
    "elif -96 < df['lon'][0] < -90:\n",
    "    zone_value='15'\n",
    "elif -90 < df['lon'][0] < -84:\n",
    "    zone_value='16'\n",
    "elif -84 < df['lon'][0] < -78:\n",
    "    zone_value='17'\n",
    "elif -78 < df['lon'][0] < -72:\n",
    "    zone_value='18'\n",
    "elif -72 and df['lon'][0] < -66:\n",
    "    zone_value='19'\n",
    "elif -66 < df['lon'][0] < -60:\n",
    "    zone_value='20'    \n",
    "elif -60 < df['lon'][0] < -54:\n",
    "    zone_value='21'\n",
    "elif -54 < df['lon'][0] < -48:\n",
    "    zone_value='22'      \n",
    "else:\n",
    "    print(\"not in conterminous US\")\n",
    "    \n",
    "crs_string=f'EPSG:326{zone_value}'\n",
    "crs_string"
   ]
  },
  {
   "cell_type": "code",
   "execution_count": null,
   "metadata": {
    "tags": []
   },
   "outputs": [],
   "source": [
    "## Alternative Method to estimate the CRS\n",
    "crs_string2=watershed.estimate_utm_crs(datum_name='WGS 84')\n",
    "crs_string2"
   ]
  },
  {
   "cell_type": "markdown",
   "metadata": {},
   "source": [
    "## <span style=\"color:green\">Step 3b: Reprojecting watershed shapefile to UTM using calculated zone</span>\n",
    "\n",
    "<ul>\n",
    "<li> Using the string created for EPSG (by calculated zone value), reproject it to PCS  </li>\n",
    "<li> Calculate the zone value (below calculations applciable to conterminous US) </li>"
   ]
  },
  {
   "cell_type": "code",
   "execution_count": null,
   "metadata": {},
   "outputs": [],
   "source": [
    "shapefile_fileloc_filename=f'{folder_input}/shape_{site_id}.shp'\n",
    "watershed_file=gpd.read_file(shapefile_fileloc_filename)\n",
    "watershed_proj=watershed_file.to_crs(crs_string)"
   ]
  },
  {
   "cell_type": "code",
   "execution_count": null,
   "metadata": {
    "tags": []
   },
   "outputs": [],
   "source": [
    "print(watershed_file.crs)\n",
    "print(watershed_proj.crs)"
   ]
  },
  {
   "cell_type": "code",
   "execution_count": null,
   "metadata": {
    "tags": []
   },
   "outputs": [],
   "source": [
    "proj_shapefile_filename=f'{folder_results}/proj_shp_{site_id}.shp'\n",
    "print(\"Projected Watershed shapefile is stored at:\", proj_shapefile_filename)\n",
    "watershed_proj.to_file(proj_shapefile_filename, driver='ESRI Shapefile',mode='w')"
   ]
  },
  {
   "cell_type": "markdown",
   "metadata": {},
   "source": [
    "## <span style=\"color:green\">Step 3c: Reprojecting merged raster to UTM using calculated zone</span>\n",
    "\n",
    "<ul>\n",
    "<li> Using the string created for EPSG (by calculated zone value), reproject it to PCS  </li>\n",
    "<li> Calculate the zone value (below calculations applciable to conterminous US) </li>"
   ]
  },
  {
   "cell_type": "code",
   "execution_count": null,
   "metadata": {
    "tags": []
   },
   "outputs": [],
   "source": [
    "def reproject_raster_func(input_raster, output_raster, target_crs):\n",
    "    # Load the input DEM\n",
    "    with rasterio.open(input_raster) as src:\n",
    "        # Define the target CRS\n",
    "        target_crs_proj = pyproj.CRS.from_string(target_crs)\n",
    "        # Calculate the transformation and new dimensions\n",
    "        transform, width, height = calculate_default_transform(src.crs, target_crs_proj, src.width, src.height, *src.bounds)\n",
    "        # Update metadata for the new dataset\n",
    "        kwargs = src.meta.copy()\n",
    "        kwargs.update({\n",
    "            'crs': target_crs_proj,\n",
    "            'transform': transform,\n",
    "            'width': width,\n",
    "            'height': height\n",
    "        })\n",
    "        # Create the output dataset and perform the reprojection\n",
    "        with rasterio.open(output_raster, 'w', **kwargs) as dst:\n",
    "            for i in range(1, src.count + 1):\n",
    "                ## WRITE CODE BELOW\n",
    "                \n",
    "                \n",
    "                \n",
    "                \n",
    "                \n",
    "                \n",
    "                \n",
    "        print(f\"Reprojection of raster complete to {target_crs} projected CRS.\")\n",
    "reprojected_raster_filename=f'{folder_intermediate}/reprojected_{resolution}_{site_id}.tif'\n",
    "## WRITE CODE BELOW\n"
   ]
  },
  {
   "cell_type": "code",
   "execution_count": null,
   "metadata": {
    "tags": []
   },
   "outputs": [],
   "source": [
    "reprojected_raster_filename=f'{folder_intermediate}/reprojected_{resolution}_{site_id}.tif'\n",
    "with rasterio.open(reprojected_raster_filename) as src:\n",
    "    fig, ax = plt.subplots(figsize = (8,8))\n",
    "    mapped=rasterio.plot.show(src,\n",
    "                              ax=ax, \n",
    "                              cmap='viridis')\n",
    "    im = mapped.get_images()[0]\n",
    "    fig.colorbar(im,\n",
    "                 ax=ax,\n",
    "                 shrink=0.5,\n",
    "                 label='Elevation (in meters)',\n",
    "                 location='right',\n",
    "                 orientation='vertical')\n",
    "    ax.set_xlabel(\"Easting (meters)\")\n",
    "    ax.set_ylabel(\"Northing (meters)\")\n",
    "    ax.set_title(f\"Reprojected Raster DEM in {watershed_proj.crs} Projected CRS\\n(for USGS {site_id})\")\n",
    "## Uee the reprojected watershed shapefile\n",
    "watershed_proj.plot(ax=ax, \n",
    "           facecolor='none', \n",
    "           edgecolor='red')\n",
    "src.close()\n",
    "del mapped,im,fig,ax,src"
   ]
  },
  {
   "cell_type": "markdown",
   "metadata": {},
   "source": [
    "## <span style=\"color:green\">Step 4: Clipping the reprojected raster file using watershed shapefile</span>\n",
    "\n",
    "<ul>\n",
    "<li> Using the string created for EPSG (by calculated zone value), reproject it to PCS  </li>\n",
    "<li> Calculate the zone value (below calculations applciable to conterminous US) </li>"
   ]
  },
  {
   "cell_type": "code",
   "execution_count": null,
   "metadata": {
    "tags": []
   },
   "outputs": [],
   "source": [
    "proj_shapefile_filename=f'{folder_results}/proj_shp_{site_id}.shp'\n",
    "\n",
    "def clip_raster_with_shapefile_func(input_raster, output_raster, shapefile,buffer_value):\n",
    "    ## Open the shapefile using geopandas\n",
    "    shapefile_gdf = gpd.read_file(shapefile).buffer(buffer_value)\n",
    "    ## Open the input raster\n",
    "    with rasterio.open(input_raster) as src:\n",
    "        ## Convert the shapefile geometry to the same CRS as the raster\n",
    "        shapefile_gdf = shapefile_gdf.to_crs(src.crs)\n",
    "        ## Convert the shapefile geometry to GeoJSON-like format\n",
    "        geoms = [mapping(geom) for geom in shapefile_gdf.geometry]\n",
    "        ## Clip the raster using the shapefile geometry\n",
    "        ## WRITE THE CODE BELOW\n",
    "        \n",
    "        ## Update metadata for the new dataset\n",
    "        out_meta = src.meta.copy()\n",
    "        out_meta.update({\n",
    "            'height': clipped.shape[1],\n",
    "            'width': clipped.shape[2],\n",
    "            'transform': out_transform\n",
    "        })\n",
    "        ## Write the clipped raster to the output file\n",
    "        with rasterio.open(output_raster, 'w', **out_meta) as dst:\n",
    "            dst.write(clipped)\n",
    "    print(f\"Raster clipping complete with a buffer value of {buffer_value} m.\")\n",
    "\n",
    "clipped_raster_filename=f'{folder_results}/clipped_{resolution}_{site_id}.tif'\n",
    "## WRITE THE CODE BELOW    \n",
    "\n",
    "\n",
    "\n",
    "\n"
   ]
  },
  {
   "cell_type": "code",
   "execution_count": null,
   "metadata": {},
   "outputs": [],
   "source": [
    "with rasterio.open(clipped_raster_filename) as src1:\n",
    "    fig, ax = plt.subplots(figsize = (8,8))\n",
    "    mapped=rasterio.plot.show(src1,\n",
    "                              ax=ax, \n",
    "                              cmap='viridis')\n",
    "    im = mapped.get_images()[0]\n",
    "    fig.colorbar(im,\n",
    "                 ax=ax,\n",
    "                 shrink=0.5,\n",
    "                 label='Elevation (in meters)',\n",
    "                 location='right',\n",
    "                 orientation='vertical')\n",
    "    ax.set_xlabel(\"Easting (meters)\")\n",
    "    ax.set_ylabel(\"Northing (meters)\")\n",
    "    ax.set_title(f\"Clipped Raster DEM with a buffer of {buffer_value_in_meters} m and wth {watershed_proj.crs} Projected CRS\\n(for USGS {site_id})\")\n",
    "\n",
    "## Uee the reprojected watershed shapefile\n",
    "watershed_proj.plot(ax=ax, \n",
    "           facecolor='none', \n",
    "           edgecolor='red')\n",
    "del src1,fig,ax"
   ]
  }
 ],
 "metadata": {
  "kernelspec": {
   "display_name": "ct-fair",
   "language": "python",
   "name": "ct-fair"
  },
  "language_info": {
   "codemirror_mode": {
    "name": "ipython",
    "version": 3
   },
   "file_extension": ".py",
   "mimetype": "text/x-python",
   "name": "python",
   "nbconvert_exporter": "python",
   "pygments_lexer": "ipython3",
   "version": "3.10.14"
  }
 },
 "nbformat": 4,
 "nbformat_minor": 4
}
