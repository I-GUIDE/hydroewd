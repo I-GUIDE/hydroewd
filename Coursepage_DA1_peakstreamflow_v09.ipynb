{
 "cells": [
  {
   "cell_type": "markdown",
   "metadata": {},
   "source": [
    "## <span style=\"color:green\">Introduction</span>\n",
    "This program downloads annual peak streamflow data from USGS Surface Data Portal for a user input USGS gage station. Further, it stores as a text file (.txt) in an assigned location in Jupyter Notebook directory.\n",
    "\n",
    "This code is written in Python 3 format.\n",
    "\n",
    "Revision No: 09\n",
    "\n",
    "Last Revised : 2022-03-30"
   ]
  },
  {
   "cell_type": "markdown",
   "metadata": {},
   "source": [
    "## <span style=\"color:green\">Import the packages/ modules required for this exercise</span>\n",
    "\n",
    "We need a few packages for this module: urllib.parse, urllib.request and os\n",
    "\n",
    "For plotting, we also need pandas and pyplot (from matplotlib)"
   ]
  },
  {
   "cell_type": "code",
   "execution_count": null,
   "metadata": {},
   "outputs": [],
   "source": [
    "## Import the required Modules/Packages for obtaining the data from USGS NWIS Web Interface\n",
    "\n",
    "## WRITE YOUR CODE BELOW\n"
   ]
  },
  {
   "cell_type": "markdown",
   "metadata": {},
   "source": [
    "## <span style=\"color:green\">Function for data access and data storage</span>\n",
    "Let us write a few lines to create a function that takes the station number as input and stores the\n",
    "results in the user-specified folder location. There are two arguments for this\n",
    "function: USGS Station Number and the name of the folder where the output has to\n",
    "be stored. Also, this function includes code for creating a link to NWIS Web Interface,\n",
    "accessing the data using the link, and storing the raw data at the user-defined\n",
    "location. The function also returns the peak streamflow as a list and the station name."
   ]
  },
  {
   "cell_type": "code",
   "execution_count": null,
   "metadata": {},
   "outputs": [],
   "source": [
    "## Define a function for obtaining the peak flow data from USGS NWIS Web Interface\n",
    "## Input (Arguments) - station number and folder name\n",
    "## Output (Return) - peak streamflow and station name\n",
    "def GetPeakFlowData_func(station_number,FolderName):\n",
    "    ## Building URLs\n",
    "    var1 = {'site_no': station_number}\n",
    "    part1 = 'https://nwis.waterdata.usgs.gov/nwis/peak?'\n",
    "    part2 = '&agency_cd=USGS&format=rdb'\n",
    "    link = (part1 + urllib.parse.urlencode(var1) + part2)\n",
    "    print(\"The USGS Link is: \\n\",link)\n",
    "    \n",
    "    ## Opening the link & retrieving data\n",
    "    response = urllib.request.urlopen(link)\n",
    "    page_data = response.read()\n",
    "    \n",
    "    ## File name assigning & storing the raw data as text file\n",
    "    ## w - Open a file for writing. Creates a new file if it does not exist or truncates the file if it exists.\n",
    "    ## b - Opens in binary mode.\n",
    "    with open(FolderName+'/Data_' + station_number + '_raw'  + '.txt', 'wb') as f1:\n",
    "        f1.write(page_data)\n",
    "    ## Usually we need to use f1.close() if we open a file using \"open\" statement\n",
    "    ## But using \"with open\", the file is closed when the block inside the the with statement is exited \n",
    "    ## It is done internally.\n",
    "    \n",
    "    ## Check if the file has been automatically closed.\n",
    "    #f.closed\n",
    "     \n",
    "    \n",
    "    print(\"\\nDownload complete for USGS Station Number: \", station_number)\n",
    "    \n",
    "    ## Converts html from bytes class to str class\n",
    "    html = page_data.decode()\n",
    "    ## Splits the string by \\n and converts list\n",
    "    html2 = html.split('\\r\\n')\n",
    "    \n",
    "    ## To extract the station name for returning from the function call\n",
    "    line_no=0\n",
    "    for line_no in range(len(html2)):\n",
    "        ## Check if first six (use 0:7) characters is \"#  USGS\",\n",
    "        if html2[line_no][0:7]==\"#  USGS\":\n",
    "            station_name=html2[line_no][3:]\n",
    "            break\n",
    "        line_no+=1\n",
    "    \n",
    "    ## Define an empty string and list\n",
    "    reqd_data = '' ## for storing data in the folder\n",
    "    reqd_flow_list=[] ## to return from the function\n",
    "    \n",
    "    for line in html2[74:]:\n",
    "        ## Splits each line to col by tab separator\n",
    "        cols = line.split('\\t')\n",
    "        if len(cols) == 1:\n",
    "            continue\n",
    "        ## Joins only date and peakflow\n",
    "        ## cols[2] corresponds to date of peak streamflow (format YYYY-MM-DD)\n",
    "        ## cols[4] corresponds to annual peak streamflow value in cfs\n",
    "        newline = ','.join([cols[2],(cols[4])])\n",
    "        reqd_data += newline + '\\n'\n",
    "        \n",
    "        ## Append the flow value to the list and return from the function call\n",
    "        reqd_flow_list.append((cols[4]))\n",
    "\n",
    "    \n",
    "    ## Converts reqd_data from str class to bytes class\n",
    "    reqd_data = reqd_data.encode()\n",
    "    \n",
    "    ## Saves the date and peakflow into a new file\n",
    "    with open(FolderName+'/Data_' + station_number + '_reqd'  + '.txt', 'wb') as f2:\n",
    "        f2.write(reqd_data)\n",
    "        \n",
    "    ## Check if the file has been automatically closed.\n",
    "    #f.closed\n",
    "\n",
    "    print(\"\\nRaw Data and Processed Data is stored in the folder for station: \", station_name)\n",
    "    \n",
    "    ## Returns the peak streamflow data as a list (for calculation of the return period in the turn-in part) and the station name \n",
    "    ## (for using in plots)\n",
    "    return (reqd_flow_list,station_name)"
   ]
  },
  {
   "cell_type": "markdown",
   "metadata": {},
   "source": [
    "## <span style=\"color:green\">Main Code</span>\n",
    "\n",
    "This part includes a USGS station number input from the user and also the folder location where the data\n",
    "will be stored. The above two parameters (station number and folder location) are then passed to the definition block. (Note: make sure you use the correct folder name/structure as per your directory structure). The function returns the peak streamflow data (as a list) and station name."
   ]
  },
  {
   "cell_type": "code",
   "execution_count": null,
   "metadata": {},
   "outputs": [],
   "source": [
    "## Main Code\n",
    "## WRITE YOUR CODE BELOW\n"
   ]
  },
  {
   "cell_type": "markdown",
   "metadata": {},
   "source": [
    "## <span style=\"color:green\">Time Series Plot</span>"
   ]
  },
  {
   "cell_type": "code",
   "execution_count": null,
   "metadata": {},
   "outputs": [],
   "source": [
    "## To create a time series plot of peak flow data by opening the saved file\n",
    "import pandas as pd\n",
    "## Assigning column names\n",
    "colnames=['Date','PeakFlow']\n",
    "df = pd.read_csv(FolderName+'/Data_' + station_number + '_reqd'  + '.txt',\n",
    "                 header=None,names=colnames,parse_dates=[0])\n",
    "\n",
    "## Setting the index of dataframe as the Date column\n",
    "df=df.set_index(['Date'])\n",
    "\n",
    "## Plotting\n",
    "## WRITE YOUR CODE BELOW"
   ]
  }
 ],
 "metadata": {
  "kernelspec": {
   "display_name": "Python [conda env:iguide-ewd]",
   "language": "python",
   "name": "conda-env-iguide-ewd-py"
  },
  "language_info": {
   "codemirror_mode": {
    "name": "ipython",
    "version": 3
   },
   "file_extension": ".py",
   "mimetype": "text/x-python",
   "name": "python",
   "nbconvert_exporter": "python",
   "pygments_lexer": "ipython3",
   "version": "3.10.11"
  }
 },
 "nbformat": 4,
 "nbformat_minor": 4
}
