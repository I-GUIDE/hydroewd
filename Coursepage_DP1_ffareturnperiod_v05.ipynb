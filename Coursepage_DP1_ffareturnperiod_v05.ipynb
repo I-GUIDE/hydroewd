{
 "cells": [
  {
   "cell_type": "markdown",
   "metadata": {},
   "source": [
    "## <span style=\"color:green\">Introduction</span>\n",
    "This program downloads peak flow data from USGS Surface Data Portal for a USER_INPUT station and calculates the flow \n",
    "corresponding to (different) return period\n",
    "\n",
    "This code is written in Python 3 format\n",
    "\n",
    "Revision No: 05\n",
    "\n",
    "Last Revised : 2020-06-05"
   ]
  },
  {
   "cell_type": "markdown",
   "metadata": {},
   "source": [
    "## <span style=\"color:green\">Import the packages/modules required for this exercise</span>\n",
    "\n",
    "<p> We need the following packages: urllib.parse, urllib.request, math, scipy.stats, numpy (np), gamma from scipy.stats, and invgamma from scipy.stats. The paranthesis contains the commonly used short forms for these libraries.</p>"
   ]
  },
  {
   "cell_type": "code",
   "execution_count": null,
   "metadata": {},
   "outputs": [],
   "source": [
    "## Import the required Modules/Packages for obtaining the data from portal\n",
    "import urllib.parse\n",
    "import urllib.request\n",
    "import os\n",
    "\n",
    "## Import the required Modules/Packages for calculating return period flow using Gamma Inverse Function\n",
    "import math\n",
    "import scipy.stats\n",
    "import numpy as np\n",
    "#import csv\n",
    "from scipy.stats import gamma\n",
    "from scipy.stats import invgamma"
   ]
  },
  {
   "cell_type": "markdown",
   "metadata": {},
   "source": [
    "## <span style=\"color:green\">Definition of Function for retrieval of Peak Flow Data</span> \n",
    "\n",
    "<p style='text-align: justify;'>Let us define the first definition block in Python to collect the data from the USGS web link using urllib package. This definition block will be later invoked in the code.</p>\n",
    "<ul>\n",
    "<li>Step 1: <span style=\"color:red\">Build the url using the station code.</span></li>\n",
    "<li>Step 2: <span style=\"color:red\">Access the data using the url and gather the data (date, flow data, station name</span></li>\n",
    "<li>Step 3: <span style=\"color:red\">Decode the data and extract only the required data</span></li>\n",
    "<li>Step 4: <span style=\"color:red\">Return the flow data and station name</span></li>"
   ]
  },
  {
   "cell_type": "code",
   "execution_count": null,
   "metadata": {},
   "outputs": [],
   "source": [
    "## Define a function for obtaining the peak flow data from USGS Surface Data Portal\n",
    "def GetAnnualPeakFlowData_f(station_number,FolderName):\n",
    "    \"\"\"\n",
    "    Input: Station Number, Folder Name\n",
    "    Output: Peak Flow Values, Station Name\n",
    "    \"\"\"\n",
    "    ## Building URLs\n",
    "    var1 = {'site_no': station_number}\n",
    "    part1 = 'https://nwis.waterdata.usgs.gov/nwis/peak?'\n",
    "    part2 = '&agency_cd=USGS&format=rdb'\n",
    "    link = (part1 + urllib.parse.urlencode(var1) + part2)\n",
    "    print(\"The USGS Link is: \\t\")\n",
    "    print (link)\n",
    "    \n",
    "    ## Opening the link & retrieving data\n",
    "    response = urllib.request.urlopen(link)\n",
    "    html = response.read()\n",
    "    \n",
    "    ## Assigning the location & Storing the Original Data\n",
    "    \n",
    "    #DataStore=FolderName + station_number + \".txt\"\n",
    "    with open(FolderName+'Data_' + station_number + '_raw'  + '.txt', 'wb') as f1:\n",
    "        f1.write(html)\n",
    "    f1.close\n",
    "    \n",
    "    ## Converts html from bytes class to str class\n",
    "    html = html.decode()\n",
    "    ## Splits the string by \\n and converts list\n",
    "    html2 = html.split('\\r\\n')\n",
    "    \n",
    "    ## To get the station name \n",
    "    line_no=0\n",
    "    for line_no in range(len(html2)):\n",
    "        ## Check if first six (use 0:7) characters is \"#  USGS\",\n",
    "        if html2[line_no][0:7]==\"#  USGS\":\n",
    "            station_name=html2[line_no][3:]\n",
    "            break\n",
    "        line_no+=1\n",
    "    \n",
    "    ## Define an empty string\n",
    "    reqd_data = 'Year,Discharge'+'\\n'\n",
    "    #print(type(reqd_data))\n",
    "    reqd_flow_list=[]\n",
    "    reqd_flow_list.append([\"Year\",\"Discharge\"])\n",
    "    \n",
    "    for line in html2[74:]:\n",
    "        ## Splits each line to col by tab separator\n",
    "        cols = line.split('\\t')\n",
    "        if len(cols) == 1:\n",
    "            continue\n",
    "        ## Joins only date and peakflow\n",
    "        ## cols[2] corresponds to Date of peak streamflow (format YYYY-MM-DD)\n",
    "        ## cols[4] corresponds to Annual peak streamflow value in cfs\n",
    "        newline = ','.join([cols[2],cols[4]])\n",
    "        reqd_data += newline + '\\n'\n",
    "        reqd_flow_list.append((cols[4]))\n",
    "\n",
    "    \n",
    "    ## Converts reqd_data from str class to bytes class\n",
    "    reqd_data = reqd_data.encode() \n",
    "    ## Saves the date and peakflow into a new file\n",
    "    with open(FolderName+'Data_' + station_number + '_reqd'  + '.txt', 'wb') as f2:\n",
    "        f2.write(reqd_data)\n",
    "    f2.close\n",
    "    print ('\\n')\n",
    "    print(\"Raw Data and Processed Data is stored in Results Folder.\")\n",
    "    #print(reqd_data)\n",
    "    \n",
    "    ## Returns the peak flow data as list for calculation of return period\n",
    "    return (reqd_flow_list,station_name)"
   ]
  },
  {
   "cell_type": "markdown",
   "metadata": {},
   "source": [
    "## <span style=\"color:green\">MAIN CODE</span> \n",
    "Now, the user has to input the station number of the desired USGS Station. It executes the definition block and stores the data in the folder."
   ]
  },
  {
   "cell_type": "code",
   "execution_count": null,
   "metadata": {
    "scrolled": true
   },
   "outputs": [],
   "source": [
    "## Main Code\n",
    "\n",
    "station_number=input(\"Enter USGS Station Number of the Required Station (USGS Station Number/site_no) \\t\")\n",
    "print('\\t')\n",
    "FolderName=\"./Results/\"\n",
    "\n",
    "## Make folder to save the results\n",
    "if os.path.exists(FolderName) == False:\n",
    "    os.mkdir(FolderName)\n",
    "\n",
    "peakflow_list_wb,station_name=GetAnnualPeakFlowData_f(station_number,FolderName)\n",
    "print(\"\\nThe station name is:\", station_name,\"\\n\")"
   ]
  },
  {
   "cell_type": "markdown",
   "metadata": {},
   "source": [
    "## <span style=\"color:green\">Years for Analysis</span> \n",
    "\n",
    "Now, the user has to input enter the four values for dates. This should be properly entered otherwise you will get an error message \"Error in length of data and check whether it is continuous\"."
   ]
  },
  {
   "cell_type": "code",
   "execution_count": null,
   "metadata": {},
   "outputs": [],
   "source": [
    "## Enter the four years for carrying out the analysis\n",
    "## Input data & analysis years\n",
    "\n",
    "data_start_year=int(input(\"Enter the starting year of DATA PERIOD (excluding initial break period):\"))\n",
    "print('\\t')\n",
    "data_end_year=int(input(\"Enter the ending year of DATA PERIOD:\"))\n",
    "print('\\t')\n",
    "analysis_start_year=int(input(\"Enter the starting year of ANALYSIS PERIOD:\"))\n",
    "print('\\t')\n",
    "analysis_end_year=int(input(\"Enter the ending year of ANALYSIS PERIOD:\"))\n",
    "print('\\t')"
   ]
  },
  {
   "cell_type": "markdown",
   "metadata": {},
   "source": [
    "## <span style=\"color:green\">Calculation of Return Period</span> \n",
    "Next, we have to write the code for performing the calculations of return period flow using moving average method."
   ]
  },
  {
   "cell_type": "code",
   "execution_count": null,
   "metadata": {},
   "outputs": [],
   "source": [
    "<WRITE YOUR CODE HERE>\n"
   ]
  },
  {
   "cell_type": "code",
   "execution_count": null,
   "metadata": {},
   "outputs": [],
   "source": []
  }
 ],
 "metadata": {
  "kernelspec": {
   "display_name": "Python [conda env:iguide-ewd]",
   "language": "python",
   "name": "conda-env-iguide-ewd-py"
  },
  "language_info": {
   "codemirror_mode": {
    "name": "ipython",
    "version": 3
   },
   "file_extension": ".py",
   "mimetype": "text/x-python",
   "name": "python",
   "nbconvert_exporter": "python",
   "pygments_lexer": "ipython3",
   "version": "3.10.11"
  }
 },
 "nbformat": 4,
 "nbformat_minor": 4
}
