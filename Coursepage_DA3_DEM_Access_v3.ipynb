{
 "cells": [
  {
   "cell_type": "markdown",
   "metadata": {},
   "source": [
    "## <span style=\"color:green\"><h1><center>DEM Accessing using a Shapefile</center></h1></span>\n",
    "<center>Prepared by <br>\n",
    "    <b>Jibin Joseph and Venkatesh Merwade</b><br> \n",
    "Lyles School of Civil Engineering, Purdue University<br>\n",
    "joseph57@purdue.edu, vmerwade@purdue.edu<br>\n",
    "<b><br>\n",
    "    FAIR Science in Water Resources</b><br></center>\n"
   ]
  },
  {
   "cell_type": "markdown",
   "metadata": {},
   "source": [
    "## <span style=\"color:green\">Objective</span>\n",
    "<p style='text-align: justify;'>We will download DEM raster files from USGS National Elevation Dataset using the extents of watershed shapefile accessed using USGS site number. Later, the DEM raster files will be plotted along with watershed boundary.</p> "
   ]
  },
  {
   "cell_type": "markdown",
   "metadata": {},
   "source": [
    "## <span style=\"color:green\"> Data Source </span>\n",
    "\n",
    "<p style='text-align: justify;'>USGS 1/3 arc second DEM</p>"
   ]
  },
  {
   "cell_type": "markdown",
   "metadata": {},
   "source": [
    "## <span style=\"color:green\">Overview of steps </span>\n",
    "<ol type=\"1\">\n",
    "    <span style=\"color:red\"><li>Using USGS Station Number, get the shapefile for a  basin (watershed) and it extents</li></span>\n",
    "    <span style=\"color:red\"><li>Download the DEM from USGS-Amazon Web Service</li></span>\n",
    "     <span style=\"color:red\"><li>Plotting the Unmerged Raster Tiles</li></span>\n",
    "\n"
   ]
  },
  {
   "cell_type": "markdown",
   "metadata": {},
   "source": [
    "## <span style=\"color:green\">Import the packages/modules required for this exercise</span>\n",
    "\n",
    "We need different packages as shown below. It can be either installed using pip method or conda method.\n"
   ]
  },
  {
   "cell_type": "code",
   "execution_count": null,
   "metadata": {
    "tags": []
   },
   "outputs": [],
   "source": [
    "## Import the modules/packages/libraries required\n",
    "import math\n",
    "import numpy as np\n",
    "import os\n",
    "import matplotlib.pyplot as plt\n",
    "\n",
    "from pynhd import NLDI\n",
    "import urllib.request\n",
    "import progressbar\n",
    "import rasterio\n",
    "import rasterio.plot"
   ]
  },
  {
   "cell_type": "markdown",
   "metadata": {},
   "source": [
    "## <span style=\"color:green\">Step 1a: Input USGS Site, DEM resolution, and create a directory</span> \n",
    "<ul>\n",
    "<li>Input: <span style=\"color:red\">USGS Site</span></li>\n",
    "<li>Input: <span style=\"color:red\">Desired resolution</span></li>\n",
    "<li>Create: <span style=\"color:red\">Folder for storing input raster files from USGS AWS</span></li>"
   ]
  },
  {
   "cell_type": "code",
   "execution_count": null,
   "metadata": {
    "tags": []
   },
   "outputs": [],
   "source": [
    "## Input the USGS site number to get the shapefile\n",
    "## E.g. \"04180000\" has a drainage area of 270 sq mi and can downloaded within 2-3 minutes\n",
    "## But \"03335500\" has a drainage area of 7267 sq mi and needs for time and space\n",
    "## WRITE CODE BELOW\n",
    "site_id='04180000' # Cedar Creek\n",
    "\n",
    "## Resolution of required DEM\n",
    "## USGS-AWS has different options like 1 arc-second (code = 1), 1/3 arc-second (code = 13), 1/9 arc-second (code = 19; currently unavailable)\n",
    "## WRITE CODE BELOW\n",
    "resolution='1'  \n",
    "\n",
    "## Define a function for making a directory depending on whether it exists or not.\n",
    "## We are creating a function so that it can be used later for creating three folders in the later modules\n",
    "def check_create_path_func(path):\n",
    "    isExist = os.path.exists(path)\n",
    "    if not isExist:\n",
    "        # Create a new directory because it does not exist\n",
    "        os.makedirs(path)\n",
    "        print(f\"The new directory \\033[1m'{path}'\\033[0m is created!\")\n",
    "    else:\n",
    "        print(f\"The new directory \\033[1m'{path}'\\033[0m is not created as it already exists!\")\n",
    "        \n",
    "## Create a folder for storing DEMs using the earlier defined function\n",
    "folder_input=f'./input_{site_id}'\n",
    "## WRITE CODE BELOW\n"
   ]
  },
  {
   "cell_type": "markdown",
   "metadata": {},
   "source": [
    "## <span style=\"color:green\">Step 1b: Input USGS Site and get the basin</span> \n",
    "\n",
    "<ul>\n",
    "<li>Input: <span style=\"color:red\">Get a input station</span></li>\n",
    "<li>Output: <span style=\"color:red\">Find out the basin</span></li>\n",
    "<li>Output: <span style=\"color:red\">Save the basin file as shapefile</span></li>\n",
    "    "
   ]
  },
  {
   "cell_type": "code",
   "execution_count": null,
   "metadata": {
    "tags": []
   },
   "outputs": [],
   "source": [
    "## Get the watershed using USGS station number using pynhd module\n",
    "## WRITE THE CODE BELOW\n",
    "\n",
    "\n",
    "## Other feature sources\n",
    "## ‘nwissite’ for USGS NWIS Surface Water Sites (default)\n",
    "## ‘comid’ for NHDPlus comid.\n",
    "## ‘ca_gages’ for Streamgage catalog for CA SB19\n",
    "## ‘gfv11_pois’ for USGS Geospatial Fabric V1.1 Points of Interest\n",
    "## ‘huc12pp’ for HUC12 Pour Points\n",
    "## ‘nmwdi-st’ for New Mexico Water Data Initative Sites\n",
    "## ‘nwisgw’ for NWIS Groundwater Sites\n",
    "## ‘ref_gage’ for geoconnex.us reference gages\n",
    "## ‘vigil’ for Vigil Network Data\n",
    "## ‘wade’ for Water Data Exchange 2.0 Sites\n",
    "## ‘WQP’ for Water Quality Portal\n",
    "\n",
    "## Plot the watershed\n",
    "## DD indicates latitude/ longitude degrees is followed by an immediate by a decimal\n",
    "ax = watershed.plot(facecolor=\"b\", \n",
    "                    edgecolor=\"k\", \n",
    "                    figsize=(8, 8))\n",
    "plt.title(f\"Shapefile corresponding to {site_id} site\")\n",
    "plt.xlabel(\"Longitude (DD)\")\n",
    "plt.ylabel(\"Longitude (DD)\")\n",
    "\n",
    "## Saving the watershed file as a shapefile at the desired location\n",
    "shapefile_fileloc_filename=f'{folder_input}/shape_{site_id}.shp'\n",
    "watershed.to_file(filename=shapefile_fileloc_filename,\n",
    "                  driver='ESRI Shapefile',\n",
    "                  mode='w')\n"
   ]
  },
  {
   "cell_type": "markdown",
   "metadata": {
    "deletable": false
   },
   "source": [
    "## <span style=\"color:green\">Step 2: Get the extents for downloading DEM</span>\n",
    "\n",
    "<ul>\n",
    "<li> Extents of the basin (watershed) is obtained using .total_bounds </li>\n",
    "<li> Then we will find the bounding extents using math floor and ceil function </li>\n",
    "    "
   ]
  },
  {
   "cell_type": "code",
   "execution_count": null,
   "metadata": {
    "tags": []
   },
   "outputs": [],
   "source": [
    "## Get the min and max of latitude and longitude (or easting and northing)\n",
    "extents_basin=watershed.total_bounds\n",
    "\n",
    "## N or S and W or E may become a problem\n",
    "print(f'Left Bounding Longtitude is {extents_basin[0]:.3f}\\u00b0 or {abs(extents_basin[0]):.3f}\\u00b0 W')\n",
    "print(f'Right Bounding Longtitude is {extents_basin[2]:.3f}\\u00b0 or {abs(extents_basin[2]):.3f}\\u00b0 W')\n",
    "print(f'Bottom Bounding Latitude is {extents_basin[1]:.3f}\\u00b0 or {abs(extents_basin[1]):.3f}\\u00b0 N')\n",
    "print(f'Top Bounding Latitude is {extents_basin[3]:.3f}\\u00b0 or {abs(extents_basin[3]):.3f}\\u00b0 N')"
   ]
  },
  {
   "cell_type": "code",
   "execution_count": null,
   "metadata": {
    "tags": []
   },
   "outputs": [],
   "source": [
    "## DEMs are numbered using integer\n",
    "## Calculate largest integer that equals or not greater than left and bottom bounds\n",
    "extent_left=abs(math.floor(extents_basin[0]))\n",
    "extent_right=abs(math.floor(extents_basin[2]))\n",
    "## You may be tempted to calculate the ceil of right extent\n",
    "## But, number scheme is such that 84W indicates data from -84 to -83 deg W\n",
    "\n",
    "## Calculate smallest integer that equals or not less than right and upper bounds\n",
    "extent_bottom=abs(math.ceil(extents_basin[1]))\n",
    "extent_top=abs(math.ceil(extents_basin[3]))\n",
    "## Similarly, you may be tempted to calculate the floor of bottom extent\n",
    "## But, number scheme is again such that 40N includes data from +39 to +40 deg N \n",
    "\n",
    "## Calulate the number of tiles to be downloaded from USGS\n",
    "num_tiles_download=(((extent_left+1)-extent_right)*((extent_top+1)-extent_bottom))\n",
    "print(f\"Number of tiles to be downloaded: {num_tiles_download}\")\n",
    "print(f\"Left: {extent_left}, Right: {extent_right}, Bottom: {extent_bottom}, Top: {extent_top}\")"
   ]
  },
  {
   "cell_type": "code",
   "execution_count": null,
   "metadata": {
    "tags": []
   },
   "outputs": [],
   "source": [
    "## Create a progress bar for monitoring the download process\n",
    "class MyProgressBar():\n",
    "    def __init__(self):\n",
    "        self.pbar = None\n",
    "\n",
    "    def __call__(self, block_num, block_size, total_size):\n",
    "        if not self.pbar:\n",
    "            self.pbar=progressbar.ProgressBar(maxval=total_size)\n",
    "            self.pbar.start()\n",
    "\n",
    "        downloaded = block_num * block_size\n",
    "        if downloaded < total_size:\n",
    "            self.pbar.update(downloaded)\n",
    "        else:\n",
    "            self.pbar.finish()"
   ]
  },
  {
   "cell_type": "markdown",
   "metadata": {},
   "source": [
    "## <span style=\"color:green\">Step 3a: Downloading the DEM from USGS-Amazon Web Service</span>\n",
    "\n",
    "<ul>\n",
    "<li> Create a for loop anf download the DEM covering the shapefile </li>\n",
    "<li> Save it in a folder </li>"
   ]
  },
  {
   "cell_type": "code",
   "execution_count": null,
   "metadata": {
    "tags": []
   },
   "outputs": [],
   "source": [
    "current_filenum=1\n",
    "\n",
    "for lon in (range(extent_right,extent_left+1,1)):\n",
    "    for lat in (range(extent_bottom,extent_top+1,1)):\n",
    "        usgs_filename=f'n{lat:02d}w{lon:03d}'\n",
    "        \n",
    "        print(f'Beginning file {current_filenum} download with urllib2  out of {num_tiles_download}...')\n",
    "        url = (f'https://prd-tnm.s3.amazonaws.com/StagedProducts/Elevation/{resolution}/TIFF'\n",
    "               f'/current/{usgs_filename}/USGS_{resolution}_{usgs_filename}.tif'\n",
    "              )\n",
    "                \n",
    "        ## The r in 'fr' disables backslach escape sequence processing\n",
    "        local_fileloc_filename=fr'{folder_input}/USGS_{resolution}_{usgs_filename}.tif'\n",
    "        \n",
    "        ## Retrieve the file using the weblink and local path with file name\n",
    "        print('Data downloaded from : ')\n",
    "        print(url)\n",
    "        ## WRITE THE CODE BELOW\n",
    "        #urllib.request.urlretrieve(url,local_fileloc_filename) #without progressbar for multiple USGS sites\n",
    "               \n",
    "        \n",
    "        \n",
    "        print(f'Completed file {current_filenum} download with urllib2 out of {num_tiles_download}...')\n",
    "        print(f'*************************************************************************************\\n')\n",
    "        \n",
    "        current_filenum+=1"
   ]
  },
  {
   "cell_type": "markdown",
   "metadata": {},
   "source": [
    "## <span style=\"color:green\">Step 3b: Plotting the downloaded (unmerged) DEMs along with watershed shapefile</span>\n",
    "\n",
    "<ul>\n",
    "<li> Plot the different DEMs using rasterio package </li>\n",
    "<li> Also, plot the shapefile of the watershed </li>"
   ]
  },
  {
   "cell_type": "code",
   "execution_count": null,
   "metadata": {
    "tags": []
   },
   "outputs": [],
   "source": [
    "fig, ax = plt.subplots(figsize=(8, 8))\n",
    "\n",
    "for lon in range(extent_right,extent_left+1,1):\n",
    "    for lat in range(extent_bottom,extent_top+1,1):\n",
    "        usgs_filename=f'n{lat:02d}w{lon:03d}'\n",
    "        local_raster_filename=fr'{folder_input}/USGS_{resolution}_{usgs_filename}.tif'\n",
    "        raster=rasterio.open(local_raster_filename)\n",
    "        rasterio.plot.show(raster,\n",
    "                           ax=ax,\n",
    "                           cmap='viridis'#different option - magma\n",
    "                          )\n",
    "        #print(f'lat: {lat},lon: {lon},file:{local_fileloc_filename}')\n",
    "watershed.plot(ax=ax, \n",
    "           facecolor='none', \n",
    "           edgecolor='red')\n",
    "plt.title(\"Unmerged Raster DEMs\")\n",
    "plt.xlabel(\"Longitude (DD)\")\n",
    "plt.ylabel(\"Longitude (DD)\")\n"
   ]
  },
  {
   "cell_type": "code",
   "execution_count": null,
   "metadata": {},
   "outputs": [],
   "source": []
  }
 ],
 "metadata": {
  "kernelspec": {
   "display_name": "iguide-ewd",
   "language": "python",
   "name": "iguide-ewd"
  },
  "language_info": {
   "codemirror_mode": {
    "name": "ipython",
    "version": 3
   },
   "file_extension": ".py",
   "mimetype": "text/x-python",
   "name": "python",
   "nbconvert_exporter": "python",
   "pygments_lexer": "ipython3",
   "version": "3.10.11"
  }
 },
 "nbformat": 4,
 "nbformat_minor": 4
}
