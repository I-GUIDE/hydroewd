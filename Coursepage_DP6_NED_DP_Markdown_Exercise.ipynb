{
 "cells": [
  {
   "cell_type": "markdown",
   "metadata": {},
   "source": [
    "<span><h1><center>Processing National Elevation Dataset (NED) tiles to Create Digital Elevation Model</center></h1></span>\n",
    "<center>Prepared by <br>\n",
    "    <b>Sayan Dey and Venkatesh Merwade</b><br> \n",
    "Purdue University<br>\n",
    "FAIR Science in Water Resources<br></center>"
   ]
  },
  {
   "cell_type": "markdown",
   "metadata": {},
   "source": [
    "### Initialize PyQGIS \n",
    "This code is used for initializing PyQGIS. You only need to execute this once per session. It should print \"True\" when the cell finishes running."
   ]
  },
  {
   "cell_type": "code",
   "execution_count": null,
   "metadata": {},
   "outputs": [],
   "source": [
    "# INITIALIZE PYQGIS (run once per session)\n",
    "import sys, os\n",
    "os.environ['QT_QPA_PLATFORM']='offscreen'\n",
    "from qgis.core import *\n",
    "from qgis.analysis import QgsNativeAlgorithms\n",
    "#from qgis.utils import *\n",
    "import processing\n",
    "from processing.core.Processing import Processing \n",
    "\n",
    "qgs = QgsApplication([], False)\n",
    "qgs.initQgis()\n",
    "Processing.initialize()\n",
    "QgsApplication.processingRegistry().addProvider(QgsNativeAlgorithms()) "
   ]
  },
  {
   "cell_type": "markdown",
   "metadata": {},
   "source": [
    "### Define folder and file names for input and output\n",
    "The input files are made available to you in a public folder. You need to assign the paths of the following files/folders to variables: <br>\n",
    "1) The full path to polygon shapefile, <span style=\"color:blue\">Boundary.shp </span>, defining the study area is available at <span style=\"color:blue\"> /data/cybertrainingfair/files/FAIR_Data_Access/NED_DEM_Download  </span> <br>\n",
    "2) The full path to the input folder, that is, the folder containing the individual NED tiles overlapping the study area are available at <span style=\"color:blue\"> /data/cybertrainingfair/files/FAIR_Data_Processing/DEM_Processing </span> <br>\n",
    "3) Work folder where all intermediate and final files are stored (can be absolute or relative path). Please make sure that the folder exists."
   ]
  },
  {
   "cell_type": "code",
   "execution_count": null,
   "metadata": {},
   "outputs": [],
   "source": [
    "# Figure 2(a)"
   ]
  },
  {
   "cell_type": "markdown",
   "metadata": {},
   "source": [
    "### Make list of individual tiles\n",
    "Make a list of tiles that need to be processed by finding all rasters in the input folder that start with \"grd\". Note that (i) NED rasters start with the term \"grd\" and (ii) rasters are essentially folders that contain data."
   ]
  },
  {
   "cell_type": "code",
   "execution_count": null,
   "metadata": {},
   "outputs": [],
   "source": [
    "# Figure 3"
   ]
  },
  {
   "cell_type": "markdown",
   "metadata": {},
   "source": [
    "### Merge raster tiles\n",
    "Use <span style=\"color:blue\">gdal:merge</span> to merge all the tiles in the list"
   ]
  },
  {
   "cell_type": "code",
   "execution_count": null,
   "metadata": {},
   "outputs": [],
   "source": [
    "# Figure 4"
   ]
  },
  {
   "cell_type": "markdown",
   "metadata": {},
   "source": [
    "### Project merged raster\n",
    "You need to find the coordinate system of the boundary shapefile and then use <span style=\"color:blue\">gdal:warpreproject</span> to project the merged raster to the coordinate system of the boundary shapefile. "
   ]
  },
  {
   "cell_type": "code",
   "execution_count": null,
   "metadata": {},
   "outputs": [],
   "source": [
    "# Figure 5"
   ]
  },
  {
   "cell_type": "markdown",
   "metadata": {},
   "source": [
    "### Clip raster \n",
    "Use <span style=\"color:blue\">gdal:cliprasterbymasklayer</span> to clip the raster with boundary shapefile to create the final DEM."
   ]
  },
  {
   "cell_type": "code",
   "execution_count": null,
   "metadata": {},
   "outputs": [],
   "source": [
    "# Figure 6"
   ]
  },
  {
   "cell_type": "markdown",
   "metadata": {},
   "source": [
    "### Create figure of boundary shapefile and final raster\n",
    "Update the paths of the final DEM. Run the cell to create a figure containing the final raster and boundary shapefile. <br>\n",
    "The raster should show up in a color gradient and the polygon, in red boundary, should allign with the raster. <br> \n",
    "We will delve into details of the code in the Data Visualization module. "
   ]
  },
  {
   "cell_type": "code",
   "execution_count": null,
   "metadata": {},
   "outputs": [],
   "source": [
    "# Figure 7\n",
    "raster_file = \"\" # you need to edit this line only. Leave others untouched\n",
    "\n",
    "import geopandas as gpd\n",
    "import matplotlib.pyplot as plt\n",
    "import rasterio\n",
    "import rasterio.plot\n",
    "\n",
    "poly_gdf = gpd.read_file(boundary_file)\n",
    "src=rasterio.open(raster_file)\n",
    "fig,ax =plt.subplots()\n",
    "rasterio.plot.show(src,ax=ax)\n",
    "poly_gdf.boundary.plot(ax=ax,facecolor='none', edgecolor='red')\n"
   ]
  }
 ],
 "metadata": {
  "kernelspec": {
   "display_name": "Python [conda env:iguide-ewd]",
   "language": "python",
   "name": "conda-env-iguide-ewd-py"
  },
  "language_info": {
   "codemirror_mode": {
    "name": "ipython",
    "version": 3
   },
   "file_extension": ".py",
   "mimetype": "text/x-python",
   "name": "python",
   "nbconvert_exporter": "python",
   "pygments_lexer": "ipython3",
   "version": "3.10.11"
  }
 },
 "nbformat": 4,
 "nbformat_minor": 4
}
