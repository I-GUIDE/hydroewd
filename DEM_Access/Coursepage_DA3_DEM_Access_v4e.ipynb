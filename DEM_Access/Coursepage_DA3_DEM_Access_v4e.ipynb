{
 "cells": [
  {
   "cell_type": "markdown",
   "metadata": {},
   "source": [
    "## <span style=\"color:green\"><h1><center>DEM Accessing using a Shapefile</center></h1></span>\n",
    "<center>Prepared by <br>\n",
    "    <b>Jibin Joseph and Venkatesh Merwade</b><br> \n",
    "Lyles School of Civil Engineering, Purdue University<br>\n",
    "joseph57@purdue.edu, vmerwade@purdue.edu<br>\n",
    "<b><br>\n",
    "    FAIR Science in Water Resources</b><br></center>\n"
   ]
  },
  {
   "cell_type": "markdown",
   "metadata": {},
   "source": [
    "## <span style=\"color:green\">Objective</span>\n",
    "<p style='text-align: justify;'>We will download DEM raster files from USGS National Elevation Dataset using the extents of watershed shapefile accessed using USGS site number. Later, the DEM raster files will be plotted along with watershed boundary.</p> "
   ]
  },
  {
   "cell_type": "markdown",
   "metadata": {},
   "source": [
    "## <span style=\"color:green\"> Data Source </span>\n",
    "\n",
    "<p style='text-align: justify;'>USGS DEM with varying resolutions (1 arc-second or 1/3 arc-second or 1/9 arc-second)</p>"
   ]
  },
  {
   "cell_type": "markdown",
   "metadata": {},
   "source": [
    "## <span style=\"color:green\">Overview of steps </span>\n",
    "<ol type=\"1\">\n",
    "    <span style=\"color:red\"><li>Using USGS Station Number, get the shapefile for a  basin (watershed) and it extents</li></span>\n",
    "    <span style=\"color:red\"><li>Download the DEM from USGS-Amazon Web Service</li></span>\n",
    "     <span style=\"color:red\"><li>Plotting the Unmerged Raster Tiles</li></span>\n",
    "\n"
   ]
  },
  {
   "cell_type": "markdown",
   "metadata": {},
   "source": [
    "## <span style=\"color:green\">Import the packages/modules required for this exercise</span>\n",
    "\n",
    "We need different packages as shown below. It can be either installed using pip method or conda method.\n"
   ]
  },
  {
   "cell_type": "code",
   "execution_count": null,
   "metadata": {},
   "outputs": [],
   "source": [
    "## Import the modules/packages/libraries required\n",
    "import math\n",
    "import numpy as np\n",
    "import os\n",
    "import matplotlib.pyplot as plt\n",
    "\n",
    "from pynhd import NLDI\n",
    "import urllib.request\n",
    "import progressbar\n",
    "import rasterio\n",
    "import rasterio.plot\n",
    "\n",
    "import geopandas as gpd\n",
    "from shapely.geometry import Polygon\n",
    "\n",
    "from datetime import datetime\n",
    "\n",
    "from os.path import expanduser"
   ]
  },
  {
   "cell_type": "code",
   "execution_count": null,
   "metadata": {},
   "outputs": [],
   "source": [
    "## Print the version number\n",
    "import pynhd\n",
    "print(\"PyNHD version: \",pynhd.__version__)\n",
    "del pynhd\n",
    "\n",
    "print(\"Rasterio version: \",rasterio.__version__)\n",
    "print(\"Geopandas version: \",gpd.__version__)\n",
    "\n",
    "import shapely\n",
    "print(\"Shapely version: \",shapely.__version__)\n",
    "del shapely"
   ]
  },
  {
   "cell_type": "markdown",
   "metadata": {},
   "source": [
    "## <span style=\"color:green\">Step 1a: Input USGS Site, DEM resolution, and create a directory</span> \n",
    "<ul>\n",
    "<li>Input: <span style=\"color:red\">USGS Site</span></li>\n",
    "<li>Input: <span style=\"color:red\">Desired resolution</span></li>\n",
    "<li>Create: <span style=\"color:red\">Folder for storing input raster files from USGS AWS</span></li>"
   ]
  },
  {
   "cell_type": "code",
   "execution_count": null,
   "metadata": {},
   "outputs": [],
   "source": [
    "## Input the USGS site number to get the shapefile\n",
    "## E.g. \"04180000\" has a drainage area of 270 sq mi and can downloaded within 2-3 minutes\n",
    "## But \"03335500\" has a drainage area of 7267 sq mi and needs more time and space\n",
    "## WRITE CODE BELOW\n",
    "\n",
    "\n",
    "## Resolution of required DEM\n",
    "## USGS-AWS has different options like 1/3 arc second (code = 13), 1/9 arc second (code = 19; currently unavailable)\n",
    "## WRITE CODE BELOW\n",
    "\n",
    "\n",
    "## Define a function for making a directory depending on whether is exists or not.\n",
    "## We are creating a function so that it can be used later for creating three folders in the later modules\n",
    "def check_create_path_func(path):\n",
    "    isExist = os.path.exists(path)\n",
    "    if not isExist:\n",
    "        # Create a new directory because it does not exist\n",
    "        os.makedirs(path)\n",
    "        print(f\"The new directory \\033[1m'{path}'\\033[0m is created!\")\n",
    "    else:\n",
    "        print(f\"The new directory \\033[1m'{path}'\\033[0m is not created as it already exists!\")\n",
    "        \n",
    "## Create the a folder for storing DEMs using the earlier defined function\n",
    "folder_main=f\"{expanduser('~')}/scratch/DEM_Access\"\n",
    "check_create_path_func(folder_main)\n",
    "\n",
    "## WRITE CODE BELOW\n",
    "\n",
    "\n",
    "\n"
   ]
  },
  {
   "cell_type": "markdown",
   "metadata": {},
   "source": [
    "## <span style=\"color:green\">Step 1b: Input USGS Site and get the basin</span> \n",
    "\n",
    "<ul>\n",
    "<li>Input: <span style=\"color:red\">Get a input station</span></li>\n",
    "<li>Output: <span style=\"color:red\">Find out the basin</span></li>\n",
    "<li>Output: <span style=\"color:red\">Save the basin file as shapefile</span></li>\n",
    "    "
   ]
  },
  {
   "cell_type": "code",
   "execution_count": null,
   "metadata": {
    "tags": []
   },
   "outputs": [],
   "source": [
    "## Get the watershed using USGS station number using pynhd module\n",
    "## WRITE THE CODE BELOW\n",
    "\n",
    "\n",
    "## Other feature sources\n",
    "## ‘nwissite’ for USGS NWIS Surface Water Sites (default)\n",
    "## ‘comid’ for NHDPlus comid.\n",
    "## ‘ca_gages’ for Streamgage catalog for CA SB19\n",
    "## ‘gfv11_pois’ for USGS Geospatial Fabric V1.1 Points of Interest\n",
    "## ‘huc12pp’ for HUC12 Pour Points\n",
    "## ‘nmwdi-st’ for New Mexico Water Data Initative Sites\n",
    "## ‘nwisgw’ for NWIS Groundwater Sites\n",
    "## ‘ref_gage’ for geoconnex.us reference gages\n",
    "## ‘vigil’ for Vigil Network Data\n",
    "## ‘wade’ for Water Data Exchange 2.0 Sites\n",
    "## ‘WQP’ for Water Quality Portal\n",
    "\n",
    "## Transform to Albers Equal Area projection (EPSG:5070)\n",
    "watershed_albers = watershed.to_crs(epsg=5070)\n",
    "## Calculate the area in square miles\n",
    "## 1 square meter = 0.386102 square miles\n",
    "watershed_albers['area_sq_mi'] = watershed_albers.area / 1e6 * 0.386102  \n",
    "#print(watershed_albers['area_sq_mi'][0])\n",
    "\n",
    "## Plot the watershed\n",
    "## DD indicates latitude/ longitude degrees is in decimal\n",
    "ax = watershed.plot(facecolor=\"b\", \n",
    "                    edgecolor=\"k\", \n",
    "                    figsize=(8, 8))\n",
    "plt.title(f\"Watershed Shapefile in {watershed.crs} Projected CRS\\n(USGS:{site_id}, \"+\n",
    "          f\"Area = {round(watershed_albers['area_sq_mi'].iloc[0],2)} sq. mi.)\")\n",
    "plt.xlabel(\"Longitude (DD)\")\n",
    "plt.ylabel(\"Longitude (DD)\")\n",
    "\n",
    "## Saving the watershed file as a shapefile at desired location\n",
    "shapefile_fileloc_filename=f'{folder_input}/shape_{site_id}.shp'\n",
    "watershed.to_file(filename=shapefile_fileloc_filename,\n",
    "                  driver= 'ESRI Shapefile',\n",
    "                  mode='w')"
   ]
  },
  {
   "cell_type": "markdown",
   "metadata": {},
   "source": [
    "## <span style=\"color:green\">Step 1c: Creating an Inset Map</span> \n",
    "\n",
    "<ul>\n",
    "<li>Input: <span style=\"color:red\">Get a input station</span></li>\n",
    "<li>Output: <span style=\"color:red\">Find out the basin</span></li>\n",
    "<li>Output: <span style=\"color:red\">Save the basin file as shapefile</span></li>\n",
    "    "
   ]
  },
  {
   "cell_type": "code",
   "execution_count": null,
   "metadata": {},
   "outputs": [],
   "source": [
    "# Load shapefiles\n",
    "watershed_map=gpd.read_file(f'{folder_input}/shape_{site_id}.shp')\n",
    "us_map = gpd.read_file(\"/srv/shared/data_dem_access/cb_2018_us_conus_5m.shp\")\n",
    "huc_map = gpd.read_file(\"/srv/shared/data_dem_access/HUC2_modified6.shp\")\n",
    "huc_map_proj=huc_map.to_crs(watershed_map.crs)\n",
    "## Create a geodataframe from the watershed centroid centroids to a DataFrame\n",
    "watershed_centroid_gdf = gpd.GeoDataFrame(geometry=watershed_map['geometry'].centroid)\n",
    "## Add other fields/ columns from watershed shapefile by merge\n",
    "watershed_centroid_gdf = watershed_centroid_gdf.merge(watershed_map.drop(columns='geometry'), \n",
    "                                                    left_index=True, \n",
    "                                                    right_index=True)\n",
    "## Join the corresponding HUC2 region with the centroid shapefile\n",
    "watershed_with_huc = gpd.sjoin(watershed_centroid_gdf, huc_map_proj, \n",
    "                               how=\"left\"#, \n",
    "                               #predicate='within'\n",
    "                              )\n",
    "specific_huc_map = watershed_with_huc[watershed_with_huc['identifier'] == f'USGS-{site_id}']['NAME'].iloc[0]\n",
    "selected_huc2=huc_map_proj[huc_map_proj['NAME']==specific_huc_map]\n",
    "## Bounding box\n",
    "watershed_bbox = watershed_map.total_bounds\n",
    "print(\"Watershed Bounding Box: \",watershed_bbox)\n",
    "## Calculate the factors for adjusting the limits the rectangular box\n",
    "xmin_factor = 0.98\n",
    "xmax_factor = 1.02\n",
    "ymin_factor = 0.98\n",
    "ymax_factor = 1.02\n",
    "\n",
    "## Construct a Polygon from the bounding box\n",
    "watershed_bbox_polygon = Polygon([(watershed_bbox[0]*xmin_factor, watershed_bbox[1]*ymin_factor),\n",
    "                        (watershed_bbox[2]*xmax_factor, watershed_bbox[1]*ymin_factor),\n",
    "                        (watershed_bbox[2]*xmax_factor, watershed_bbox[3]*ymax_factor),\n",
    "                        (watershed_bbox[0]*xmin_factor, watershed_bbox[3]*ymax_factor)])\n",
    "watershed_bbox_gdf = gpd.GeoDataFrame(geometry=[watershed_bbox_polygon])\n",
    "watershed_bbox_gdf.crs = watershed_map.crs\n",
    "## Plot the main map (US map)\n",
    "fig, ax = plt.subplots(figsize=(10, 10))\n",
    "us_map.to_crs(watershed_map.crs).plot(ax=ax, color='lightgrey', edgecolor='black')\n",
    "selected_huc2.plot(ax=ax, color='lightblue', edgecolor='black')\n",
    "watershed_map.plot(ax=ax, color='blue', edgecolor=None)\n",
    "watershed_bbox_gdf.plot(ax=ax, color=None, edgecolor='red',alpha=0.5)\n",
    "ax.set_xlim(xmin=-135)\n",
    "ax.set_ylim(ymin=15)\n",
    "ax.set_title('Inset Map for the watershed')\n",
    "\n",
    "## Plot the inset HUC2 (HUC2 map)\n",
    "inset_ax = fig.add_axes([0.16, 0.23, 0.2, 0.2])  # [left, bottom, width, height]\n",
    "selected_huc2.plot(ax=inset_ax, color='lightblue', edgecolor='black')\n",
    "watershed_map.plot(ax=inset_ax, color='blue', edgecolor=None)\n",
    "watershed_bbox_gdf.plot(ax=inset_ax, color=None, edgecolor='red',alpha=0.5)\n",
    "inset_ax.set_title('HUC2 Map and Watershed')\n",
    "# Remove axes numbers for the inset map\n",
    "#inset_ax.axis('off')\n",
    "plt.show()"
   ]
  },
  {
   "cell_type": "markdown",
   "metadata": {
    "deletable": false
   },
   "source": [
    "## <span style=\"color:green\">Step 2: Get the extents for downloading DEM</span>\n",
    "\n",
    "<ul>\n",
    "<li> Extents of the basin (watershed) is obtained using .total_bounds </li>\n",
    "<li> Then we will find the bounding extents using math floor and ceil function </li>\n",
    "    "
   ]
  },
  {
   "cell_type": "code",
   "execution_count": null,
   "metadata": {
    "tags": []
   },
   "outputs": [],
   "source": [
    "## Get the min and max of latitude and longitude (or easting and northing)\n",
    "extents_basin=watershed.total_bounds\n",
    "\n",
    "## N or S and W or E may become a problem\n",
    "print(f'Left Bounding Longtitude is {extents_basin[0]:.3f}\\u00b0 or {abs(extents_basin[0]):.3f}\\u00b0 W')\n",
    "print(f'Right Bounding Longtitude is {extents_basin[2]:.3f}\\u00b0 or {abs(extents_basin[2]):.3f}\\u00b0 W')\n",
    "print(f'Bottom Bounding Latitude is {extents_basin[1]:.3f}\\u00b0 or {abs(extents_basin[1]):.3f}\\u00b0 N')\n",
    "print(f'Top Bounding Latitude is {extents_basin[3]:.3f}\\u00b0 or {abs(extents_basin[3]):.3f}\\u00b0 N')"
   ]
  },
  {
   "cell_type": "code",
   "execution_count": null,
   "metadata": {
    "tags": []
   },
   "outputs": [],
   "source": [
    "## DEMs are numbered using integer\n",
    "## Calculate largest integer that equals or not greater than left and bottom bounds\n",
    "extent_left=abs(math.floor(extents_basin[0]))\n",
    "extent_right=abs(math.floor(extents_basin[2]))\n",
    "## You may be tempted to calculate the ceil of right extent\n",
    "## But, number scheme is such that 84W indicates data from -84 to -83 deg W\n",
    "\n",
    "## Calculate smallest integer that equals or not less than right and upper bounds\n",
    "extent_bottom=abs(math.ceil(extents_basin[1]))\n",
    "extent_top=abs(math.ceil(extents_basin[3]))\n",
    "## Similarly, you may be tempted to calculate the floor of bottom extent\n",
    "## But, number scheme is again such that 40N includes data from +39 to +40 deg N "
   ]
  },
  {
   "cell_type": "markdown",
   "metadata": {},
   "source": [
    "## <span style=\"color:green\">Step 3: Find DEM tiles that overlap with the watershed bondary</span>\n",
    "\n",
    "<ul>\n",
    "<li> Create a rectangular boundary file using the extents </li>\n",
    "<li> Make sure the rectangular boundary file have the same projection as the watershed </li>\n",
    "<li> If the rectangular boundary file overlaps with the watershed, add the lon and lat pair to a list </li>"
   ]
  },
  {
   "cell_type": "code",
   "execution_count": null,
   "metadata": {},
   "outputs": [],
   "source": [
    "## Define a empty list to hold lon and lat pair\n",
    "overlap_lonlat=[]\n",
    "\n",
    "## Create a for loop to create a rectangular boundary and see if overlaps with watershed\n",
    "for lon in (range(extent_right,extent_left+1,1)):\n",
    "    for lat in (range(extent_bottom,extent_top+1,1)):\n",
    "        ## Defining in anticlockwise direction\n",
    "        corner_left_bottom=(-lon,lat-1)\n",
    "        corner_right_bottom=(-lon+1,lat-1)\n",
    "        corner_right_top=(-lon+1,lat)\n",
    "        corner_left_top=(-lon,lat)\n",
    "        ## Create a polygon from the corner points\n",
    "        rectangular_boundary = Polygon([corner_left_bottom,corner_right_bottom,\n",
    "                                        corner_right_top,corner_left_top])\n",
    "        ## Create a GeoDataFrame from the polygon\n",
    "        rectangular_gdf = gpd.GeoDataFrame(geometry=[rectangular_boundary])\n",
    "        ## Assign the CRS to watershed's CRS\n",
    "        rectangular_gdf.crs = watershed.crs\n",
    "        ## WRITE THE CODE BELOW\n",
    "        ## Use the overlay operation to find the intersection\n",
    "        intersection = gpd.overlay(watershed, rectangular_gdf, how='intersection')\n",
    "        \n",
    "        ## Check if any intersection and append the lat and lon\n",
    "        if not intersection.empty:\n",
    "            #print(\"The rectangular polygon overlaps with the shapefile.\")\n",
    "            overlap_lonlat.append((lon,lat))     \n",
    "print(\"The required lon and lat pairs are: \\n\",overlap_lonlat)\n",
    "## Calulate the number of tiles to be downloaded from USGS\n",
    "num_tiles_download=(((extent_left+1)-extent_right)*((extent_top+1)-extent_bottom))\n",
    "print(f\"\\nNumber of tiles required to cover the entire region: {num_tiles_download}\")\n",
    "print(f\"Left: {extent_left}, Right: {extent_right}, Bottom: {extent_bottom}, Top: {extent_top}\")\n",
    "print(f\"\\nNumber of tiles within watershed boundary: {len(overlap_lonlat)}\")"
   ]
  },
  {
   "cell_type": "code",
   "execution_count": null,
   "metadata": {
    "tags": []
   },
   "outputs": [],
   "source": [
    "## Create a progress bar for monitoring the download process\n",
    "class MyProgressBar():\n",
    "    def __init__(self):\n",
    "        self.pbar = None\n",
    "\n",
    "    def __call__(self, block_num, block_size, total_size):\n",
    "        if not self.pbar:\n",
    "            self.pbar=progressbar.ProgressBar(maxval=total_size)\n",
    "            self.pbar.start()\n",
    "\n",
    "        downloaded = block_num * block_size\n",
    "        if downloaded < total_size:\n",
    "            self.pbar.update(downloaded)\n",
    "        else:\n",
    "            self.pbar.finish()"
   ]
  },
  {
   "cell_type": "markdown",
   "metadata": {},
   "source": [
    "## <span style=\"color:green\">Step 4a : Sequential download - Downloading the DEM from USGS-Amazon Web Service</span>\n",
    "\n",
    "<ul>\n",
    "<li> Create a for loop anf download the DEM covering the shapefile </li>\n",
    "<li> Save it in a folder </li>"
   ]
  },
  {
   "cell_type": "code",
   "execution_count": null,
   "metadata": {
    "tags": []
   },
   "outputs": [],
   "source": [
    "start_time_seq=datetime.now()\n",
    "\n",
    "current_filenum=1\n",
    "\n",
    "# Iterate over the locations list and print each pair\n",
    "for location in overlap_lonlat:\n",
    "    print(\"Latitude:\", location[1] ,\"N ;\", \", Longitude:\", location[0],\"W\")\n",
    "\n",
    "    usgs_filename=f'n{location[1]:02d}w{location[0]:03d}'\n",
    "    \n",
    "    print(f'Beginning file download with urllib2 ({current_filenum}/{len(overlap_lonlat)})...')\n",
    "    url = (f'https://prd-tnm.s3.amazonaws.com/StagedProducts/Elevation/{resolution}/TIFF'\n",
    "           f'/current/{usgs_filename}/USGS_{resolution}_{usgs_filename}.tif'\n",
    "          )\n",
    "            \n",
    "    ## The r in 'fr' disables backslach escape sequence processing\n",
    "    local_fileloc_filename=fr'{dem_files_store}/USGS_{resolution}_{usgs_filename}.tif'\n",
    "    \n",
    "    ## Retrieve the file using the weblink and local path with file name\n",
    "    print('Data downloaded from : ')\n",
    "    print(url)\n",
    "    ## WRITE THE CODE BELOW\n",
    "    #urllib.request.urlretrieve(url,local_fileloc_filename) #without progressbar for multiple USGS sites\n",
    "    \n",
    "     \n",
    "    print(f\"Completed file download ({current_filenum}/{len(overlap_lonlat)} and save to '{local_fileloc_filename}'...\")\n",
    "    print(f'*************************************************************************************\\n')\n",
    "    \n",
    "    current_filenum+=1\n",
    "\n",
    "end_time_seq=datetime.now()"
   ]
  },
  {
   "cell_type": "markdown",
   "metadata": {},
   "source": [
    "## <span style=\"color:green\">Step 4b: Threading for faster download - Downloading the DEM from USGS-Amazon Web Service</span>"
   ]
  },
  {
   "cell_type": "code",
   "execution_count": null,
   "metadata": {},
   "outputs": [],
   "source": [
    "import threading\n",
    "\n",
    "def download_dem_file_func(usgs_filename, local_fileloc_filename):\n",
    "    try:\n",
    "        #urllib.request.urlretrieve(url, local_fileloc_filename,MyProgressBar())\n",
    "        print(f'Beginning file download for {usgs_filename}...')\n",
    "        urllib.request.urlretrieve(f'https://prd-tnm.s3.amazonaws.com/StagedProducts/Elevation/{resolution}/TIFF'\n",
    "                                   f'/current/{usgs_filename}/USGS_{resolution}_{usgs_filename}.tif',\n",
    "        local_fileloc_filename)\n",
    "        print(f\"Completed file download and saved to '{local_fileloc_filename}'\")\n",
    "    except Exception as e_value:\n",
    "        print(f\"Error downloading {url}: {e_value}\")\n",
    "\n",
    "start_time_thread=datetime.now()\n",
    "\n",
    "## Create empty list and append the names\n",
    "usgs_file_list=[]\n",
    "local_fileloc_filename_list=[]\n",
    "for location in overlap_lonlat:\n",
    "    usgs_filename=f'n{location[1]:02d}w{location[0]:03d}'\n",
    "    usgs_file_list.append(f'n{location[1]:02d}w{location[0]:03d}')\n",
    "    local_fileloc_filename_list.append(fr'{dem_files_store}/USGS_{resolution}_{usgs_filename}.tif')\n",
    "\n",
    "## Threading for parallel download to reduce time\n",
    "threads = []\n",
    "for usgs_file, filename in zip(usgs_file_list, local_fileloc_filename_list):\n",
    "    #print(url,filename)\n",
    "    ## WRITE THE CODE BELOW\n",
    "    \n",
    "    \n",
    "    \n",
    "    \n",
    "\n",
    "## Wait for all threads to finish to avoid unexpected behavior or incorrect output\n",
    "for thread in threads:\n",
    "    thread.join()\n",
    "end_time_thread=datetime.now()"
   ]
  },
  {
   "cell_type": "markdown",
   "metadata": {},
   "source": [
    "## <span style=\"color:green\">Step 4c: Time Comparison</span>"
   ]
  },
  {
   "cell_type": "code",
   "execution_count": null,
   "metadata": {},
   "outputs": [],
   "source": [
    "## Time Comparison\n",
    "\n",
    "print(f'Time taken for sequential downloading: {end_time_seq-start_time_seq}')\n",
    "print(f'Time taken for parallel downloading: {end_time_thread-start_time_thread}')\n",
    "print(f'\\nEfficiency: {round((end_time_seq-start_time_seq)/(end_time_thread-start_time_thread),1)}')"
   ]
  },
  {
   "cell_type": "markdown",
   "metadata": {},
   "source": [
    "## <span style=\"color:green\">Step 4d: Plotting the downloaded (single/unmerged) DEMs along with watershed shapefile</span>\n",
    "\n",
    "<ul>\n",
    "<li> Plot the single or different DEMs using rasterio package </li>\n",
    "<li> Also, plot the shapefile of the watershed </li>"
   ]
  },
  {
   "cell_type": "code",
   "execution_count": null,
   "metadata": {},
   "outputs": [],
   "source": [
    "if (len(overlap_lonlat)>1):\n",
    "    title=f\"Unmerged Raster DEMs\\n (USGS: {site_id})\"\n",
    "else:\n",
    "    title=f\"Single Raster DEM\\n (USGS: {site_id})\"\n",
    "    \n",
    "fig, ax = plt.subplots(figsize=(8, 8))\n",
    "\n",
    "for location in overlap_lonlat:\n",
    "        usgs_filename=f'n{location[1]:02d}w{location[0]:03d}'\n",
    "        local_raster_filename=fr'{dem_files_store}/USGS_{resolution}_{usgs_filename}.tif'\n",
    "        raster = rasterio.open(local_raster_filename)\n",
    "        rasterio.plot.show(raster,\n",
    "                           ax=ax,\n",
    "                           cmap='viridis')\n",
    "        #print(f'lat: {lat},lon: {lon},file:{local_fileloc_filename}')\n",
    "## WRITE THE CODE BELOW        \n",
    "\n",
    "\n",
    "\n",
    "plt.title(title)\n",
    "plt.xlabel(\"Longitude (DD)\")\n",
    "plt.ylabel(\"Longitude (DD)\")"
   ]
  }
 ],
 "metadata": {
  "kernelspec": {
   "display_name": "ct-fair",
   "language": "python",
   "name": "ct-fair"
  },
  "language_info": {
   "codemirror_mode": {
    "name": "ipython",
    "version": 3
   },
   "file_extension": ".py",
   "mimetype": "text/x-python",
   "name": "python",
   "nbconvert_exporter": "python",
   "pygments_lexer": "ipython3",
   "version": "3.10.14"
  }
 },
 "nbformat": 4,
 "nbformat_minor": 4
}
