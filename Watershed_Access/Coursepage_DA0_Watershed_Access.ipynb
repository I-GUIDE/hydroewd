{
 "cells": [
  {
   "cell_type": "markdown",
   "metadata": {},
   "source": [
    "## <span style=\"color:green\"><h1><center>Downloading Watershed Corresponding to USGS Site Number</center></h1></span>\n",
    "<center>Prepared by <br>\n",
    "    <b>Jibin Joseph and Venkatesh Merwade</b><br> \n",
    "Lyles School of Civil Engineering, Purdue University<br>\n",
    "joseph57@purdue.edu, vmerwade@purdue.edu<br>\n",
    "<b><br>\n",
    "    FAIR Science in Water Resources</b><br></center>\n"
   ]
  },
  {
   "cell_type": "markdown",
   "metadata": {},
   "source": [
    "## <span style=\"color:green\">Objective</span>\n",
    "<p style='text-align: justify;'>We will watershed shapefile using USGS site number. Save the shapefile and plot it.</p> "
   ]
  },
  {
   "cell_type": "markdown",
   "metadata": {},
   "source": [
    "## <span style=\"color:green\">Import the packages/modules required for this exercise</span>\n",
    "\n",
    "We need different packages as shown below. It can be either installed using pip method or conda method.\n"
   ]
  },
  {
   "cell_type": "code",
   "execution_count": null,
   "metadata": {
    "tags": []
   },
   "outputs": [],
   "source": [
    "## Import the modules/packages/libraries required\n",
    "import os\n",
    "import matplotlib.pyplot as plt\n",
    "\n",
    "from pynhd import NLDI\n",
    "from pyproj import CRS"
   ]
  },
  {
   "cell_type": "markdown",
   "metadata": {},
   "source": [
    "## <span style=\"color:green\">Step 1a: Input USGS Site, DEM resolution, and create a directory</span> \n",
    "<ul>\n",
    "<li>Input: <span style=\"color:red\">USGS Site</span></li>\n",
    "<li>Input: <span style=\"color:red\">Desired resolution</span></li>\n",
    "<li>Create: <span style=\"color:red\">Folder for storing downloaded files from USGS AWS</span></li>"
   ]
  },
  {
   "cell_type": "code",
   "execution_count": null,
   "metadata": {
    "tags": []
   },
   "outputs": [],
   "source": [
    "## Input the USGS site number to get the shapefile\n",
    "## E.g. \"04180000\" has a drainage area of 270 sq mi and can downloaded within 2-3 minutes\n",
    "## But \"03335500\" has a drainage area of 7267 sq mi and needs for time and space\n",
    "## WRITE CODE BELOW\n",
    "\n",
    "\n",
    "## Define a function for making a directory depending on whether is exists or not.\n",
    "## We are creating a function so that it can be used later for creating three folders in the later modules\n",
    "def check_create_path_func(path):\n",
    "    isExist = os.path.exists(path)\n",
    "    if not isExist:\n",
    "        # Create a new directory because it does not exist\n",
    "        os.makedirs(path)\n",
    "        print(f\"The new directory \\033[1m'{path}'\\033[0m is created!\")\n",
    "    else:\n",
    "        print(f\"The new directory \\033[1m'{path}'\\033[0m is not created as it already exists!\")\n",
    "        \n",
    "## Create the a folder for storing DEMs using the earlier defined function\n",
    "## WRITE CODE BELOW\n"
   ]
  },
  {
   "cell_type": "markdown",
   "metadata": {},
   "source": [
    "## <span style=\"color:green\">Step 1b: Input USGS Site and get the basin</span> \n",
    "\n",
    "<ul>\n",
    "<li>Input: <span style=\"color:red\">Get a input station</span></li>\n",
    "<li>Output: <span style=\"color:red\">Find out the basin</span></li>\n",
    "<li>Output: <span style=\"color:red\">Save the basin file as shapefile</span></li>\n",
    "    "
   ]
  },
  {
   "cell_type": "code",
   "execution_count": null,
   "metadata": {
    "tags": []
   },
   "outputs": [],
   "source": [
    "## Get the watershed using USGS station number using pynhd module\n",
    "## WRITE THE CODE BELOW\n",
    "\n",
    "\n",
    "## Plot the watershed\n",
    "## DD indicates latitude/ longitude degrees is followed by immediately followed by decimal\n",
    "ax = watershed.plot(facecolor=\"b\", \n",
    "                    edgecolor=\"k\", \n",
    "                    figsize=(8, 8))\n",
    "plt.title(f\"Shapefile corresponding to {site_id} site\\n(Coordinate Reference System - {watershed.crs})\")\n",
    "plt.xlabel(\"Longitude (DD)\")\n",
    "plt.ylabel(\"Longitude (DD)\")\n",
    "\n",
    "## Saving the watershed file as a shapefile at desired location\n",
    "## WRITE THE CODE BELOW\n",
    "\n"
   ]
  },
  {
   "cell_type": "markdown",
   "metadata": {
    "deletable": false
   },
   "source": [
    "## <span style=\"color:green\">Step 2: Get the Extents and Coordinate System of the shapefile</span>\n",
    "\n",
    "<ul>\n",
    "<li> Extents of the basin (watershed) is obtained using .total_bounds </li>\n",
    "<li> Then we will find the bounding extents using math floor and ceil function </li>\n",
    "    "
   ]
  },
  {
   "cell_type": "code",
   "execution_count": null,
   "metadata": {
    "tags": []
   },
   "outputs": [],
   "source": [
    "## Get the min and max of latitude and longitude (or easting and northing)\n",
    "extents_basin=watershed.total_bounds\n",
    "\n",
    "## N or S and W or E may become a problem\n",
    "print(f'Left Bounding Longtitude is {extents_basin[0]:.3f}\\u00b0 or {abs(extents_basin[0]):.3f}\\u00b0 W')\n",
    "print(f'Right Bounding Longtitude is {extents_basin[2]:.3f}\\u00b0 or {abs(extents_basin[2]):.3f}\\u00b0 W')\n",
    "print(f'Bottom Bounding Latitude is {extents_basin[1]:.3f}\\u00b0 or {abs(extents_basin[1]):.3f}\\u00b0 N')\n",
    "print(f'Top Bounding Latitude is {extents_basin[3]:.3f}\\u00b0 or {abs(extents_basin[3]):.3f}\\u00b0 N')\n",
    "\n",
    "print(\"\\n\\n\")\n",
    "\n",
    "print(f\"The coordinate system of the watershed is - {watershed.crs}\")"
   ]
  }
 ],
 "metadata": {
  "kernelspec": {
   "display_name": "ct-fair",
   "language": "python",
   "name": "ct-fair"
  },
  "language_info": {
   "codemirror_mode": {
    "name": "ipython",
    "version": 3
   },
   "file_extension": ".py",
   "mimetype": "text/x-python",
   "name": "python",
   "nbconvert_exporter": "python",
   "pygments_lexer": "ipython3",
   "version": "3.10.14"
  }
 },
 "nbformat": 4,
 "nbformat_minor": 4
}
