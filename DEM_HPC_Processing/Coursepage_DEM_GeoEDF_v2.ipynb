{
 "cells": [
  {
   "cell_type": "markdown",
   "id": "6cea8b31-ee96-43e6-8406-48991c0cae92",
   "metadata": {},
   "source": [
    "## <span style=\"color:green\"><h1><center>HPC TOOL: DEM Accessing & Processing</center></h1></span>\n",
    "<center>Prepared by <br>\n",
    "    <b>Noah Oller Smith, Rajesh Kalyanam, Jibin Joseph and Venkatesh Merwade</b><br> \n",
    "Lyles School of Civil Engineering, Purdue University<br>\n",
    "vmerwade@purdue.edu<br>\n",
    "<b><br>\n",
    "    FAIR Science in Water Resources</b><br></center>\n"
   ]
  },
  {
   "cell_type": "markdown",
   "id": "1e3690f5-d06d-4ac1-b765-7b1900d3e927",
   "metadata": {},
   "source": [
    "## <span style=\"color:green\">Objective</span>\n",
    "<p style='text-align: justify;'> The objective of this tutorial is to perform the accessing and processing of DEM data for larger watersheds. Once you input the site ID and resolution, the tutorial will output clipped DEM raster for any regions across CONUS. The final output for USGS 08159500 Colorado River at Smithville, TX will be shown below.</p> \n",
    "\n",
    "![My Image](final_image_08159500.JPG)\r\n"
   ]
  },
  {
   "cell_type": "code",
   "execution_count": null,
   "id": "2f3b5d82-6710-48aa-85e9-08f35278bdff",
   "metadata": {
    "tags": []
   },
   "outputs": [],
   "source": [
    "#site_id = '07289000' ## (386 DEM tiles) Mississippi River at Vicksburg, MS (1,144,500 sq mi - largest watershed) #DO NOT TRY # IT REQUIRES LARGES RESOURCES\n",
    "#site_id=\"03612600\" ## (~70 DEM tiles) Ohio River at Olmstead, IL (203,000 sq mi)\n",
    "#site_id=\"03335500\" ## (~6 DEM tiles) Wabash River at Lafayette, IN (7,267 sq mi)\n",
    "\n",
    "site_id = '08159500' ## (20 DEM tiles) Colorado River at Smithville in Texas (40,371 sq mi)\n",
    "resolution = '1'"
   ]
  },
  {
   "cell_type": "code",
   "execution_count": null,
   "id": "e8a53b2a-0ffc-4e38-b1ee-29f82912eb01",
   "metadata": {
    "tags": []
   },
   "outputs": [],
   "source": [
    "params_dem_fetch = {\"site_id\": site_id,\n",
    "                    \"resolution\": resolution}\n",
    "params_dem_fetch"
   ]
  },
  {
   "cell_type": "markdown",
   "id": "0ef7113a-e97f-49ed-9ec2-2cecee8ad5ba",
   "metadata": {},
   "source": [
    "## <span style=\"color:green\">HPC tool</span>\n",
    "<p style='text-align: justify;'> We will use Cyber GIS comupte tool from UIUC</p> "
   ]
  },
  {
   "cell_type": "code",
   "execution_count": null,
   "id": "8d4bab81-b575-46c3-80b6-a17f7e636e85",
   "metadata": {
    "tags": []
   },
   "outputs": [],
   "source": [
    "import cybergis_compute_client\n",
    "from cybergis_compute_client import CyberGISCompute\n",
    "import os"
   ]
  },
  {
   "cell_type": "markdown",
   "id": "442607bb-57d2-4ba9-a7b4-694c1a0a2350",
   "metadata": {},
   "source": [
    "## <span style=\"color:green\">Step 1: Access DEM raster tiles to cover the watershed corresponding for given site_id and resolution</span>\n",
    "<p style='text-align: justify;'> </p> \n",
    "\n",
    "## <span style=\"color:green\">Step to follow</span>\n",
    "<p style='text-align: justify;'> </p> \n",
    "\n",
    "<li> Run the below cell. </li>\n",
    "<li> On the Job Configuration Tab of the below cell, Click on the Submit Button. We will use the default computing resources 10 minutes and 16 cpus per task. </li>\n",
    "<li> Next, go to \"Your Job Status\" tab and patiently wait for the job to get completed. You will see tick mark \"✅ your job completed\" under job logs. </li>\n",
    "<li> Now, run the next cell to proceed to Merge raster process. </li>>"
   ]
  },
  {
   "cell_type": "code",
   "execution_count": null,
   "id": "0595c699-55ea-4dab-be69-67a36573831e",
   "metadata": {
    "tags": []
   },
   "outputs": [],
   "source": [
    "cybergis = CyberGISCompute(url=\"cgjobsup.cigi.illinois.edu\", isJupyter=True, protocol=\"HTTPS\", port=443, suffix=\"v2\")\n",
    "cybergis.show_ui(defaultJob=\"Watershed_DEM_Raster_Connector\", input_params=params_dem_fetch)"
   ]
  },
  {
   "cell_type": "markdown",
   "id": "ed092536-7b74-40c7-a0d1-b6973371c994",
   "metadata": {},
   "source": [
    "## <span style=\"color:green\">WAIT UNTIL LAST JOB IS FINISHED. CHECK \"Your Job Status\" TAB BEFORE PROCEEDING</span>\n",
    "<p style='text-align: justify;'> </p> "
   ]
  },
  {
   "cell_type": "code",
   "execution_count": null,
   "id": "1e30ca91-3a05-4612-b274-e0b536521ef3",
   "metadata": {
    "tags": []
   },
   "outputs": [],
   "source": [
    "## Collect the job id from previous job\n",
    "jobid_dem_connector = cybergis.job.id\n",
    "jobid_dem_connector"
   ]
  },
  {
   "cell_type": "markdown",
   "id": "afcd1347-941a-4036-8be8-0c732c3c9178",
   "metadata": {},
   "source": [
    "## <span style=\"color:green\">Step 2: Merge the downloaded DEM raster tiles </span>\n",
    "<p style='text-align: justify;'> </p>"
   ]
  },
  {
   "cell_type": "code",
   "execution_count": null,
   "id": "58d03510-ac47-4738-b344-4fcf95e1f0a1",
   "metadata": {
    "tags": []
   },
   "outputs": [],
   "source": [
    "params_dem_merge = {\"input_path\": jobid_dem_connector,\n",
    "                    \"site_id\": site_id,\n",
    "                    \"merged_filename\": f'merged_{resolution}_{site_id}'}\n",
    "params_dem_merge"
   ]
  },
  {
   "cell_type": "markdown",
   "id": "46eed886-9dec-4905-bfdd-ce6fae7f2030",
   "metadata": {},
   "source": [
    "## <span style=\"color:green\">Step to follow</span>\n",
    "<p style='text-align: justify;'> </p> \n",
    "\n",
    "<li> Run the below cell. </li>\n",
    "<li> Again, on the Job Configuration Tab of the below cell, Click on the Submit Button. We will use the default computing resources 10 minutes and 16 cpus per task. </li>\n",
    "<li> Next, go to \"Your Job Status\" tab and patiently wait for the job to complete. You will see the tick mark \"✅ your job completed\" under job logs. </li>\n",
    "<li> Now, in the \"Download Job Results\" tab, select \"/preview\" from the dropdown and click Download to get the merged DEM raster file locally to plot merged raster.</li>\n",
    "<li> Once you see \"✅ download success!\", run the next cell to proceed to plot the merged raster file. </li>"
   ]
  },
  {
   "cell_type": "code",
   "execution_count": null,
   "id": "553f6ab8-2189-4ae6-8ab2-b1a622a32d96",
   "metadata": {
    "tags": []
   },
   "outputs": [],
   "source": [
    "cybergis = CyberGISCompute(url=\"cgjobsup.cigi.illinois.edu\", isJupyter=True, protocol=\"HTTPS\", port=443, suffix=\"v2\")\n",
    "cybergis.show_ui(defaultJob=\"DEM_Raster_Merging_Processor\", input_params=params_dem_merge)"
   ]
  },
  {
   "cell_type": "code",
   "execution_count": null,
   "id": "28d4d003-e910-4f0d-9f86-69634cd55954",
   "metadata": {},
   "outputs": [],
   "source": [
    "from IPython.display import Image\n",
    "merged_raster_output = cybergis.recentDownloadPath\n",
    "#local_raster_filename=fr'{merged_raster_output}/merged_raster_{site_id}.png'\n",
    "local_raster_filename=fr'{merged_raster_output}/merged_raster_{site_id}.png'\n",
    "Image(filename=local_raster_filename)"
   ]
  },
  {
   "cell_type": "markdown",
   "id": "d744cba8-8c37-46a9-a58e-19f1568ae43a",
   "metadata": {},
   "source": [
    "## <span style=\"color:green\">WAIT UNTIL LAST JOB IS FINISHED. CHECK \"Your Job Status\" TAB BEFORE PROCEEDING</span>\n",
    "<p style='text-align: justify;'> </p> "
   ]
  },
  {
   "cell_type": "code",
   "execution_count": null,
   "id": "480cfcd0-8ffb-4b61-9f10-fd928cc151ab",
   "metadata": {
    "tags": []
   },
   "outputs": [],
   "source": [
    "## Collect the job id from previous job\n",
    "jobid_dem_merge = cybergis.job.id\n",
    "jobid_dem_merge"
   ]
  },
  {
   "cell_type": "markdown",
   "id": "592ff037-2fb3-42c5-b1ed-9fec5581f500",
   "metadata": {},
   "source": [
    "## <span style=\"color:green\">Step 3: Reproject the watershed shapefile and merged raster tile to projected coordinate system </span>\n",
    "<p style='text-align: justify;'> </p> "
   ]
  },
  {
   "cell_type": "code",
   "execution_count": null,
   "id": "106637ea-d9b5-45cf-8ba4-914b3d6ad526",
   "metadata": {
    "tags": []
   },
   "outputs": [],
   "source": [
    "params_dem_reproject = {\"raster_path\": jobid_dem_merge,\n",
    "                        \"site_id\": site_id,\n",
    "                        \"resolution\": resolution}\n",
    "params_dem_reproject"
   ]
  },
  {
   "cell_type": "markdown",
   "id": "f45ee8bf-517a-42bc-8629-b17d9f67d618",
   "metadata": {},
   "source": [
    "## <span style=\"color:green\">Step to follow</span>\n",
    "<p style='text-align: justify;'> </p> \n",
    "\n",
    "<li> Run the below cell. </li>\n",
    "<li> Again, on the Job Configuration Tab of the below cell, Click on the Submit Button. We will use the default computing resources 10 minutes and 16 cpus per task to reproject the raster to the proper UTM zone. </li>\n",
    "<li> Next, go to \"Your Job Status\" tab and patiently wait for the job to complete. You will see the tick mark \"✅ your job completed\" under job logs. </li>\n",
    "<li> Now, in the \"Download Job Results\" tab, select \"/preview\" from the dropdown and click Download to get the reprojected DEM raster file locally to plot the reprojected raster.</li>\n",
    "<li> Once you see \"✅ download success!\", run the next cell to proceed to plot the reprojected raster file. </li>"
   ]
  },
  {
   "cell_type": "code",
   "execution_count": null,
   "id": "b04e92fe-e3aa-48d6-9ca4-5e9450abdae7",
   "metadata": {
    "tags": []
   },
   "outputs": [],
   "source": [
    "cybergis = CyberGISCompute(url=\"cgjobsup.cigi.illinois.edu\", isJupyter=True, protocol=\"HTTPS\", port=443, suffix=\"v2\")\n",
    "cybergis.show_ui(defaultJob=\"DEM_Raster_Reprojection_Processor\", input_params=params_dem_reproject)"
   ]
  },
  {
   "cell_type": "code",
   "execution_count": null,
   "id": "ffaa482f-b1de-456f-83ad-ad602c4e385c",
   "metadata": {},
   "outputs": [],
   "source": [
    "reprojected_raster_output = cybergis.recentDownloadPath\n",
    "#local_raster_filename=fr'{merged_raster_output}/merged_raster_{site_id}.png'\n",
    "local_raster_filename=fr'{reprojected_raster_output}/reprojected_raster_{site_id}.png'\n",
    "Image(filename=local_raster_filename)"
   ]
  },
  {
   "cell_type": "markdown",
   "id": "00cb462a-d9b4-4505-a757-a23a480182af",
   "metadata": {},
   "source": [
    "## <span style=\"color:green\">WAIT UNTIL LAST JOB IS FINISHED. CHECK \"Your Job Status\" TAB and download it locally BEFORE PROCEEDING</span>\n",
    "<p style='text-align: justify;'> </p> "
   ]
  },
  {
   "cell_type": "code",
   "execution_count": null,
   "id": "95938bc5-6925-4651-ba4d-a65134676201",
   "metadata": {
    "tags": []
   },
   "outputs": [],
   "source": [
    "## Collect the job id from previous job\n",
    "jobid_dem_reproject = cybergis.job.id\n",
    "jobid_dem_reproject"
   ]
  },
  {
   "cell_type": "markdown",
   "id": "91d2b678-4b61-43e9-b74b-1c05d0fd6375",
   "metadata": {},
   "source": [
    "## <span style=\"color:green\">Step 4: Clip the reprojected raster tile using the projected watershed shapefile </span>\n",
    "<p style='text-align: justify;'> </p> "
   ]
  },
  {
   "cell_type": "code",
   "execution_count": null,
   "id": "4a0d6c94-97ca-4c1a-880d-40811bcc7709",
   "metadata": {
    "tags": []
   },
   "outputs": [],
   "source": [
    "params_dem_clip = {\"raster_path\": jobid_dem_reproject,\n",
    "                   \"site_id\": site_id,\n",
    "                   \"resolution\": resolution}\n",
    "params_dem_clip"
   ]
  },
  {
   "cell_type": "markdown",
   "id": "9281ac71-6208-4258-a073-0181705d2197",
   "metadata": {},
   "source": [
    "## <span style=\"color:green\">Step to follow</span>\n",
    "<p style='text-align: justify;'> </p> \n",
    "\n",
    "<li> Run the below cell. </li>\n",
    "<li> Again, on the Job Configuration Tab of the below cell, CHANGE THE DEFAULT computing resources to 10 minutes and 64 cpus cores. We are increasing resources as we have multiple processes like clipping DEM, flow direction calculation, flow accumulation, slope, and topographic wetness index (TWI) involved in this step.</li>\n",
    "<li> Next, go to \"Your Job Status\" tab and patiently wait (2-10 mins depending on the number of jobs already submitted) for the job to complete. You will see the tick mark \"✅ your job completed\" under job logs. </li>\n",
    "<li> Now, in the \"Download Job Results\" tab, select \"/preview\" from the dropdown and click Download to get the clipped DEM and TWI raster file locally to plot them.</li>\n",
    "<li> Once you see \"✅ download success!\", run the next cell to plot the two raster files. </li>"
   ]
  },
  {
   "cell_type": "code",
   "execution_count": null,
   "id": "afdb26e6-8d30-47c6-ba1b-c43fcbba3d25",
   "metadata": {
    "tags": []
   },
   "outputs": [],
   "source": [
    "cybergis = CyberGISCompute(url=\"cgjobsup.cigi.illinois.edu\", isJupyter=True, protocol=\"HTTPS\", port=443, suffix=\"v2\")\n",
    "cybergis.show_ui(defaultJob=\"DEM_Raster_Clipping_Processor\", input_params=params_dem_clip)"
   ]
  },
  {
   "cell_type": "markdown",
   "id": "ecd4de27-f3b4-4ced-8ac1-fb9258fef942",
   "metadata": {},
   "source": [
    "## <span style=\"color:green\">Step 5: Visualize the clipped DEM and Topographic Wetness Index (TWI) raster data </span>"
   ]
  },
  {
   "cell_type": "code",
   "execution_count": null,
   "id": "6dd080b6-4d89-490c-8809-403a7260d1c9",
   "metadata": {},
   "outputs": [],
   "source": [
    "from IPython.display import Image\n",
    "clipped_raster_output = cybergis.recentDownloadPath\n",
    "local_raster_filename=fr'{clipped_raster_output}/preview/clipped_raster_{site_id}.png'\n",
    "Image(filename=local_raster_filename)"
   ]
  },
  {
   "cell_type": "code",
   "execution_count": null,
   "id": "8e6031eb-cddb-4ff7-9e13-3a1148a41e9e",
   "metadata": {},
   "outputs": [],
   "source": [
    "import matplotlib.pyplot as plt\n",
    "import matplotlib.image as mpimg\n",
    "\n",
    "final_raster_output = cybergis.recentDownloadPath\n",
    "\n",
    "# Define the file names for both raster images\n",
    "clipped_raster_filename = fr'{final_raster_output}/preview/clipped_raster_{site_id}.png'\n",
    "twi_raster_filename = fr'{final_raster_output}/preview/twi_{site_id}.png'\n",
    "\n",
    "# Create a figure with 1 rows and 2 column\n",
    "fig, axs = plt.subplots(1, 2, figsize=(10, 10))\n",
    "\n",
    "# Load and display the clipped raster image\n",
    "clipped_img = mpimg.imread(clipped_raster_filename)\n",
    "axs[0].imshow(clipped_img)\n",
    "#axs[0].set_title('Clipped DEM Raster')\n",
    "axs[0].axis('off')  # Hide axes\n",
    "\n",
    "# Load and display the TWI raster image\n",
    "twi_img = mpimg.imread(twi_raster_filename)\n",
    "axs[1].imshow(twi_img)\n",
    "#axs[1].set_title('Topographic Wetness Index (TWI) Raster')\n",
    "axs[1].axis('off')  # Hide axes\n",
    "\n",
    "# Adjust layout\n",
    "plt.tight_layout()\n",
    "plt.show()"
   ]
  },
  {
   "cell_type": "markdown",
   "id": "7ba0cf35-a8c2-42fd-a52c-2eba6593dc12",
   "metadata": {},
   "source": [
    "## <span style=\"color:green\">We are done. Congratulations! </span>"
   ]
  },
  {
   "cell_type": "code",
   "execution_count": null,
   "id": "3cdfa8dc-4d6c-408d-ba11-b924e8706fb1",
   "metadata": {},
   "outputs": [],
   "source": []
  }
 ],
 "metadata": {
  "kernelspec": {
   "display_name": "iguide-ewd",
   "language": "python",
   "name": "iguide-ewd"
  },
  "language_info": {
   "codemirror_mode": {
    "name": "ipython",
    "version": 3
   },
   "file_extension": ".py",
   "mimetype": "text/x-python",
   "name": "python",
   "nbconvert_exporter": "python",
   "pygments_lexer": "ipython3",
   "version": "3.10.11"
  }
 },
 "nbformat": 4,
 "nbformat_minor": 5
}
